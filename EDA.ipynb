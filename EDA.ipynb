{
 "cells": [
  {
   "cell_type": "code",
   "execution_count": 1,
   "id": "b136c21b-34d9-4d51-b92e-a6966f3f0fba",
   "metadata": {},
   "outputs": [],
   "source": [
    "import numpy as np\n",
    "import pandas as pd\n",
    "import seaborn as sns \n",
    "import matplotlib.pyplot as plt"
   ]
  },
  {
   "cell_type": "code",
   "execution_count": 2,
   "id": "ef3a1b27-c7b2-4a6d-b28f-ca61c1fa5b42",
   "metadata": {},
   "outputs": [],
   "source": [
    "%matplotlib inline"
   ]
  },
  {
   "cell_type": "code",
   "execution_count": 231,
   "id": "42d9b1c5-e6cf-46cb-9552-d86c1c7ee6b7",
   "metadata": {},
   "outputs": [],
   "source": [
    "import warnings"
   ]
  },
  {
   "cell_type": "code",
   "execution_count": 232,
   "id": "102f6c3e-0699-4d66-a86a-e9969bdc2256",
   "metadata": {},
   "outputs": [],
   "source": [
    "warnings.filterwarnings(\"ignore\")"
   ]
  },
  {
   "cell_type": "code",
   "execution_count": 101,
   "id": "235632b2-daf2-4ee2-828f-5e980f5d1988",
   "metadata": {},
   "outputs": [],
   "source": [
    "from sklearn.linear_model import LogisticRegression"
   ]
  },
  {
   "cell_type": "code",
   "execution_count": 3,
   "id": "c2e6597e-2b4b-41aa-a4a7-13a90e121508",
   "metadata": {},
   "outputs": [],
   "source": [
    "train_v2 = pd.read_csv(\"C:/Users/Nandita/KKBox/train_v2.csv/data/churn_comp_refresh/train_v2.csv\")"
   ]
  },
  {
   "cell_type": "code",
   "execution_count": 4,
   "id": "d77d97ef-4210-4057-9b61-96c3a7c9c0f6",
   "metadata": {},
   "outputs": [],
   "source": [
    "transactions_v2 = pd.read_csv(\"C:/Users/Nandita/KKBox/transactions_v2.csv/data/churn_comp_refresh/transactions_v2.csv\")"
   ]
  },
  {
   "cell_type": "code",
   "execution_count": 5,
   "id": "2c755658-e7bc-49c5-a64a-1a1275cd89f5",
   "metadata": {},
   "outputs": [],
   "source": [
    "user_logs = pd.read_csv(\"C:/Users/Nandita/KKBox/user_logs_v2.csv/data/churn_comp_refresh/user_logs_v2.csv\")"
   ]
  },
  {
   "cell_type": "code",
   "execution_count": 6,
   "id": "7dc4d24c-539d-4dbb-bb9a-860dd427c1eb",
   "metadata": {},
   "outputs": [],
   "source": [
    "members = pd.read_csv(\"C:/Users/Nandita/KKBox/members_v3.csv/members_v3.csv\")"
   ]
  },
  {
   "cell_type": "code",
   "execution_count": 7,
   "id": "91bb5223-716e-4b93-99c7-b07ab2d9578b",
   "metadata": {},
   "outputs": [],
   "source": [
    "def df_shape(df, name=\"DataFrame\"):\n",
    "    print(f\"{name}: {df.shape}\")"
   ]
  },
  {
   "cell_type": "code",
   "execution_count": 8,
   "id": "f57a136d-8491-4156-8da6-8ffc4e20ce49",
   "metadata": {},
   "outputs": [
    {
     "name": "stdout",
     "output_type": "stream",
     "text": [
      "DataFrame: (970960, 2)\n"
     ]
    }
   ],
   "source": [
    "df_shape(train_v2)"
   ]
  },
  {
   "cell_type": "code",
   "execution_count": 9,
   "id": "60f87c68-e595-4e5f-8d77-d0f4bddd9ccc",
   "metadata": {},
   "outputs": [
    {
     "name": "stdout",
     "output_type": "stream",
     "text": [
      "DataFrame: (1431009, 9)\n"
     ]
    }
   ],
   "source": [
    "df_shape(transactions_v2)"
   ]
  },
  {
   "cell_type": "code",
   "execution_count": 10,
   "id": "1fca16f1-c6ad-4840-ad27-d2f506c8d137",
   "metadata": {},
   "outputs": [
    {
     "name": "stdout",
     "output_type": "stream",
     "text": [
      "DataFrame: (18396362, 9)\n"
     ]
    }
   ],
   "source": [
    "df_shape(user_logs)"
   ]
  },
  {
   "cell_type": "code",
   "execution_count": 11,
   "id": "6baed255-d624-4855-854a-968419678b55",
   "metadata": {},
   "outputs": [
    {
     "name": "stdout",
     "output_type": "stream",
     "text": [
      "DataFrame: (6769473, 6)\n"
     ]
    }
   ],
   "source": [
    "df_shape(members)"
   ]
  },
  {
   "cell_type": "code",
   "execution_count": 12,
   "id": "b2bb833b-842d-45e3-ba79-14c31f12ca41",
   "metadata": {},
   "outputs": [
    {
     "data": {
      "text/html": [
       "<div>\n",
       "<style scoped>\n",
       "    .dataframe tbody tr th:only-of-type {\n",
       "        vertical-align: middle;\n",
       "    }\n",
       "\n",
       "    .dataframe tbody tr th {\n",
       "        vertical-align: top;\n",
       "    }\n",
       "\n",
       "    .dataframe thead th {\n",
       "        text-align: right;\n",
       "    }\n",
       "</style>\n",
       "<table border=\"1\" class=\"dataframe\">\n",
       "  <thead>\n",
       "    <tr style=\"text-align: right;\">\n",
       "      <th></th>\n",
       "      <th>msno</th>\n",
       "      <th>is_churn</th>\n",
       "    </tr>\n",
       "  </thead>\n",
       "  <tbody>\n",
       "    <tr>\n",
       "      <th>0</th>\n",
       "      <td>ugx0CjOMzazClkFzU2xasmDZaoIqOUAZPsH1q0teWCg=</td>\n",
       "      <td>1</td>\n",
       "    </tr>\n",
       "    <tr>\n",
       "      <th>1</th>\n",
       "      <td>f/NmvEzHfhINFEYZTR05prUdr+E+3+oewvweYz9cCQE=</td>\n",
       "      <td>1</td>\n",
       "    </tr>\n",
       "    <tr>\n",
       "      <th>2</th>\n",
       "      <td>zLo9f73nGGT1p21ltZC3ChiRnAVvgibMyazbCxvWPcg=</td>\n",
       "      <td>1</td>\n",
       "    </tr>\n",
       "    <tr>\n",
       "      <th>3</th>\n",
       "      <td>8iF/+8HY8lJKFrTc7iR9ZYGCG2Ecrogbc2Vy5YhsfhQ=</td>\n",
       "      <td>1</td>\n",
       "    </tr>\n",
       "    <tr>\n",
       "      <th>4</th>\n",
       "      <td>K6fja4+jmoZ5xG6BypqX80Uw/XKpMgrEMdG2edFOxnA=</td>\n",
       "      <td>1</td>\n",
       "    </tr>\n",
       "  </tbody>\n",
       "</table>\n",
       "</div>"
      ],
      "text/plain": [
       "                                           msno  is_churn\n",
       "0  ugx0CjOMzazClkFzU2xasmDZaoIqOUAZPsH1q0teWCg=         1\n",
       "1  f/NmvEzHfhINFEYZTR05prUdr+E+3+oewvweYz9cCQE=         1\n",
       "2  zLo9f73nGGT1p21ltZC3ChiRnAVvgibMyazbCxvWPcg=         1\n",
       "3  8iF/+8HY8lJKFrTc7iR9ZYGCG2Ecrogbc2Vy5YhsfhQ=         1\n",
       "4  K6fja4+jmoZ5xG6BypqX80Uw/XKpMgrEMdG2edFOxnA=         1"
      ]
     },
     "execution_count": 12,
     "metadata": {},
     "output_type": "execute_result"
    }
   ],
   "source": [
    "train_v2.head()"
   ]
  },
  {
   "cell_type": "code",
   "execution_count": 13,
   "id": "e126b72c-13e8-4619-b736-c2d4757c1413",
   "metadata": {},
   "outputs": [
    {
     "data": {
      "text/html": [
       "<div>\n",
       "<style scoped>\n",
       "    .dataframe tbody tr th:only-of-type {\n",
       "        vertical-align: middle;\n",
       "    }\n",
       "\n",
       "    .dataframe tbody tr th {\n",
       "        vertical-align: top;\n",
       "    }\n",
       "\n",
       "    .dataframe thead th {\n",
       "        text-align: right;\n",
       "    }\n",
       "</style>\n",
       "<table border=\"1\" class=\"dataframe\">\n",
       "  <thead>\n",
       "    <tr style=\"text-align: right;\">\n",
       "      <th></th>\n",
       "      <th>msno</th>\n",
       "      <th>payment_method_id</th>\n",
       "      <th>payment_plan_days</th>\n",
       "      <th>plan_list_price</th>\n",
       "      <th>actual_amount_paid</th>\n",
       "      <th>is_auto_renew</th>\n",
       "      <th>transaction_date</th>\n",
       "      <th>membership_expire_date</th>\n",
       "      <th>is_cancel</th>\n",
       "    </tr>\n",
       "  </thead>\n",
       "  <tbody>\n",
       "    <tr>\n",
       "      <th>0</th>\n",
       "      <td>++6eU4LsQ3UQ20ILS7d99XK8WbiVgbyYL4FUgzZR134=</td>\n",
       "      <td>32</td>\n",
       "      <td>90</td>\n",
       "      <td>298</td>\n",
       "      <td>298</td>\n",
       "      <td>0</td>\n",
       "      <td>20170131</td>\n",
       "      <td>20170504</td>\n",
       "      <td>0</td>\n",
       "    </tr>\n",
       "    <tr>\n",
       "      <th>1</th>\n",
       "      <td>++lvGPJOinuin/8esghpnqdljm6NXS8m8Zwchc7gOeA=</td>\n",
       "      <td>41</td>\n",
       "      <td>30</td>\n",
       "      <td>149</td>\n",
       "      <td>149</td>\n",
       "      <td>1</td>\n",
       "      <td>20150809</td>\n",
       "      <td>20190412</td>\n",
       "      <td>0</td>\n",
       "    </tr>\n",
       "    <tr>\n",
       "      <th>2</th>\n",
       "      <td>+/GXNtXWQVfKrEDqYAzcSw2xSPYMKWNj22m+5XkVQZc=</td>\n",
       "      <td>36</td>\n",
       "      <td>30</td>\n",
       "      <td>180</td>\n",
       "      <td>180</td>\n",
       "      <td>1</td>\n",
       "      <td>20170303</td>\n",
       "      <td>20170422</td>\n",
       "      <td>0</td>\n",
       "    </tr>\n",
       "    <tr>\n",
       "      <th>3</th>\n",
       "      <td>+/w1UrZwyka4C9oNH3+Q8fUf3fD8R3EwWrx57ODIsqk=</td>\n",
       "      <td>36</td>\n",
       "      <td>30</td>\n",
       "      <td>180</td>\n",
       "      <td>180</td>\n",
       "      <td>1</td>\n",
       "      <td>20170329</td>\n",
       "      <td>20170331</td>\n",
       "      <td>1</td>\n",
       "    </tr>\n",
       "    <tr>\n",
       "      <th>4</th>\n",
       "      <td>+00PGzKTYqtnb65mPKPyeHXcZEwqiEzktpQksaaSC3c=</td>\n",
       "      <td>41</td>\n",
       "      <td>30</td>\n",
       "      <td>99</td>\n",
       "      <td>99</td>\n",
       "      <td>1</td>\n",
       "      <td>20170323</td>\n",
       "      <td>20170423</td>\n",
       "      <td>0</td>\n",
       "    </tr>\n",
       "  </tbody>\n",
       "</table>\n",
       "</div>"
      ],
      "text/plain": [
       "                                           msno  payment_method_id  \\\n",
       "0  ++6eU4LsQ3UQ20ILS7d99XK8WbiVgbyYL4FUgzZR134=                 32   \n",
       "1  ++lvGPJOinuin/8esghpnqdljm6NXS8m8Zwchc7gOeA=                 41   \n",
       "2  +/GXNtXWQVfKrEDqYAzcSw2xSPYMKWNj22m+5XkVQZc=                 36   \n",
       "3  +/w1UrZwyka4C9oNH3+Q8fUf3fD8R3EwWrx57ODIsqk=                 36   \n",
       "4  +00PGzKTYqtnb65mPKPyeHXcZEwqiEzktpQksaaSC3c=                 41   \n",
       "\n",
       "   payment_plan_days  plan_list_price  actual_amount_paid  is_auto_renew  \\\n",
       "0                 90              298                 298              0   \n",
       "1                 30              149                 149              1   \n",
       "2                 30              180                 180              1   \n",
       "3                 30              180                 180              1   \n",
       "4                 30               99                  99              1   \n",
       "\n",
       "   transaction_date  membership_expire_date  is_cancel  \n",
       "0          20170131                20170504          0  \n",
       "1          20150809                20190412          0  \n",
       "2          20170303                20170422          0  \n",
       "3          20170329                20170331          1  \n",
       "4          20170323                20170423          0  "
      ]
     },
     "execution_count": 13,
     "metadata": {},
     "output_type": "execute_result"
    }
   ],
   "source": [
    "transactions_v2.head()"
   ]
  },
  {
   "cell_type": "code",
   "execution_count": 14,
   "id": "249519a0-70f8-42dc-8d57-73748b584a5b",
   "metadata": {},
   "outputs": [
    {
     "data": {
      "text/html": [
       "<div>\n",
       "<style scoped>\n",
       "    .dataframe tbody tr th:only-of-type {\n",
       "        vertical-align: middle;\n",
       "    }\n",
       "\n",
       "    .dataframe tbody tr th {\n",
       "        vertical-align: top;\n",
       "    }\n",
       "\n",
       "    .dataframe thead th {\n",
       "        text-align: right;\n",
       "    }\n",
       "</style>\n",
       "<table border=\"1\" class=\"dataframe\">\n",
       "  <thead>\n",
       "    <tr style=\"text-align: right;\">\n",
       "      <th></th>\n",
       "      <th>msno</th>\n",
       "      <th>date</th>\n",
       "      <th>num_25</th>\n",
       "      <th>num_50</th>\n",
       "      <th>num_75</th>\n",
       "      <th>num_985</th>\n",
       "      <th>num_100</th>\n",
       "      <th>num_unq</th>\n",
       "      <th>total_secs</th>\n",
       "    </tr>\n",
       "  </thead>\n",
       "  <tbody>\n",
       "    <tr>\n",
       "      <th>0</th>\n",
       "      <td>u9E91QDTvHLq6NXjEaWv8u4QIqhrHk72kE+w31Gnhdg=</td>\n",
       "      <td>20170331</td>\n",
       "      <td>8</td>\n",
       "      <td>4</td>\n",
       "      <td>0</td>\n",
       "      <td>1</td>\n",
       "      <td>21</td>\n",
       "      <td>18</td>\n",
       "      <td>6309.273</td>\n",
       "    </tr>\n",
       "    <tr>\n",
       "      <th>1</th>\n",
       "      <td>nTeWW/eOZA/UHKdD5L7DEqKKFTjaAj3ALLPoAWsU8n0=</td>\n",
       "      <td>20170330</td>\n",
       "      <td>2</td>\n",
       "      <td>2</td>\n",
       "      <td>1</td>\n",
       "      <td>0</td>\n",
       "      <td>9</td>\n",
       "      <td>11</td>\n",
       "      <td>2390.699</td>\n",
       "    </tr>\n",
       "    <tr>\n",
       "      <th>2</th>\n",
       "      <td>2UqkWXwZbIjs03dHLU9KHJNNEvEkZVzm69f3jCS+uLI=</td>\n",
       "      <td>20170331</td>\n",
       "      <td>52</td>\n",
       "      <td>3</td>\n",
       "      <td>5</td>\n",
       "      <td>3</td>\n",
       "      <td>84</td>\n",
       "      <td>110</td>\n",
       "      <td>23203.337</td>\n",
       "    </tr>\n",
       "    <tr>\n",
       "      <th>3</th>\n",
       "      <td>ycwLc+m2O0a85jSLALtr941AaZt9ai8Qwlg9n0Nql5U=</td>\n",
       "      <td>20170331</td>\n",
       "      <td>176</td>\n",
       "      <td>4</td>\n",
       "      <td>2</td>\n",
       "      <td>2</td>\n",
       "      <td>19</td>\n",
       "      <td>191</td>\n",
       "      <td>7100.454</td>\n",
       "    </tr>\n",
       "    <tr>\n",
       "      <th>4</th>\n",
       "      <td>EGcbTofOSOkMmQyN1NMLxHEXJ1yV3t/JdhGwQ9wXjnI=</td>\n",
       "      <td>20170331</td>\n",
       "      <td>2</td>\n",
       "      <td>1</td>\n",
       "      <td>0</td>\n",
       "      <td>1</td>\n",
       "      <td>112</td>\n",
       "      <td>93</td>\n",
       "      <td>28401.558</td>\n",
       "    </tr>\n",
       "  </tbody>\n",
       "</table>\n",
       "</div>"
      ],
      "text/plain": [
       "                                           msno      date  num_25  num_50  \\\n",
       "0  u9E91QDTvHLq6NXjEaWv8u4QIqhrHk72kE+w31Gnhdg=  20170331       8       4   \n",
       "1  nTeWW/eOZA/UHKdD5L7DEqKKFTjaAj3ALLPoAWsU8n0=  20170330       2       2   \n",
       "2  2UqkWXwZbIjs03dHLU9KHJNNEvEkZVzm69f3jCS+uLI=  20170331      52       3   \n",
       "3  ycwLc+m2O0a85jSLALtr941AaZt9ai8Qwlg9n0Nql5U=  20170331     176       4   \n",
       "4  EGcbTofOSOkMmQyN1NMLxHEXJ1yV3t/JdhGwQ9wXjnI=  20170331       2       1   \n",
       "\n",
       "   num_75  num_985  num_100  num_unq  total_secs  \n",
       "0       0        1       21       18    6309.273  \n",
       "1       1        0        9       11    2390.699  \n",
       "2       5        3       84      110   23203.337  \n",
       "3       2        2       19      191    7100.454  \n",
       "4       0        1      112       93   28401.558  "
      ]
     },
     "execution_count": 14,
     "metadata": {},
     "output_type": "execute_result"
    }
   ],
   "source": [
    "user_logs.head()"
   ]
  },
  {
   "cell_type": "code",
   "execution_count": 15,
   "id": "2cab6b45-4229-46fe-b2ae-3504d56ce244",
   "metadata": {},
   "outputs": [
    {
     "data": {
      "text/html": [
       "<div>\n",
       "<style scoped>\n",
       "    .dataframe tbody tr th:only-of-type {\n",
       "        vertical-align: middle;\n",
       "    }\n",
       "\n",
       "    .dataframe tbody tr th {\n",
       "        vertical-align: top;\n",
       "    }\n",
       "\n",
       "    .dataframe thead th {\n",
       "        text-align: right;\n",
       "    }\n",
       "</style>\n",
       "<table border=\"1\" class=\"dataframe\">\n",
       "  <thead>\n",
       "    <tr style=\"text-align: right;\">\n",
       "      <th></th>\n",
       "      <th>msno</th>\n",
       "      <th>city</th>\n",
       "      <th>bd</th>\n",
       "      <th>gender</th>\n",
       "      <th>registered_via</th>\n",
       "      <th>registration_init_time</th>\n",
       "    </tr>\n",
       "  </thead>\n",
       "  <tbody>\n",
       "    <tr>\n",
       "      <th>0</th>\n",
       "      <td>Rb9UwLQTrxzBVwCB6+bCcSQWZ9JiNLC9dXtM1oEsZA8=</td>\n",
       "      <td>1</td>\n",
       "      <td>0</td>\n",
       "      <td>NaN</td>\n",
       "      <td>11</td>\n",
       "      <td>20110911</td>\n",
       "    </tr>\n",
       "    <tr>\n",
       "      <th>1</th>\n",
       "      <td>+tJonkh+O1CA796Fm5X60UMOtB6POHAwPjbTRVl/EuU=</td>\n",
       "      <td>1</td>\n",
       "      <td>0</td>\n",
       "      <td>NaN</td>\n",
       "      <td>7</td>\n",
       "      <td>20110914</td>\n",
       "    </tr>\n",
       "    <tr>\n",
       "      <th>2</th>\n",
       "      <td>cV358ssn7a0f7jZOwGNWS07wCKVqxyiImJUX6xcIwKw=</td>\n",
       "      <td>1</td>\n",
       "      <td>0</td>\n",
       "      <td>NaN</td>\n",
       "      <td>11</td>\n",
       "      <td>20110915</td>\n",
       "    </tr>\n",
       "    <tr>\n",
       "      <th>3</th>\n",
       "      <td>9bzDeJP6sQodK73K5CBlJ6fgIQzPeLnRl0p5B77XP+g=</td>\n",
       "      <td>1</td>\n",
       "      <td>0</td>\n",
       "      <td>NaN</td>\n",
       "      <td>11</td>\n",
       "      <td>20110915</td>\n",
       "    </tr>\n",
       "    <tr>\n",
       "      <th>4</th>\n",
       "      <td>WFLY3s7z4EZsieHCt63XrsdtfTEmJ+2PnnKLH5GY4Tk=</td>\n",
       "      <td>6</td>\n",
       "      <td>32</td>\n",
       "      <td>female</td>\n",
       "      <td>9</td>\n",
       "      <td>20110915</td>\n",
       "    </tr>\n",
       "  </tbody>\n",
       "</table>\n",
       "</div>"
      ],
      "text/plain": [
       "                                           msno  city  bd  gender  \\\n",
       "0  Rb9UwLQTrxzBVwCB6+bCcSQWZ9JiNLC9dXtM1oEsZA8=     1   0     NaN   \n",
       "1  +tJonkh+O1CA796Fm5X60UMOtB6POHAwPjbTRVl/EuU=     1   0     NaN   \n",
       "2  cV358ssn7a0f7jZOwGNWS07wCKVqxyiImJUX6xcIwKw=     1   0     NaN   \n",
       "3  9bzDeJP6sQodK73K5CBlJ6fgIQzPeLnRl0p5B77XP+g=     1   0     NaN   \n",
       "4  WFLY3s7z4EZsieHCt63XrsdtfTEmJ+2PnnKLH5GY4Tk=     6  32  female   \n",
       "\n",
       "   registered_via  registration_init_time  \n",
       "0              11                20110911  \n",
       "1               7                20110914  \n",
       "2              11                20110915  \n",
       "3              11                20110915  \n",
       "4               9                20110915  "
      ]
     },
     "execution_count": 15,
     "metadata": {},
     "output_type": "execute_result"
    }
   ],
   "source": [
    "members.head()"
   ]
  },
  {
   "cell_type": "code",
   "execution_count": 16,
   "id": "cd34e59f-d27b-4a2b-8cee-6822171919d7",
   "metadata": {},
   "outputs": [
    {
     "data": {
      "text/html": [
       "<div>\n",
       "<style scoped>\n",
       "    .dataframe tbody tr th:only-of-type {\n",
       "        vertical-align: middle;\n",
       "    }\n",
       "\n",
       "    .dataframe tbody tr th {\n",
       "        vertical-align: top;\n",
       "    }\n",
       "\n",
       "    .dataframe thead th {\n",
       "        text-align: right;\n",
       "    }\n",
       "</style>\n",
       "<table border=\"1\" class=\"dataframe\">\n",
       "  <thead>\n",
       "    <tr style=\"text-align: right;\">\n",
       "      <th></th>\n",
       "      <th>msno</th>\n",
       "      <th>payment_method_id</th>\n",
       "      <th>payment_plan_days</th>\n",
       "      <th>plan_list_price</th>\n",
       "      <th>actual_amount_paid</th>\n",
       "      <th>is_auto_renew</th>\n",
       "      <th>transaction_date</th>\n",
       "      <th>membership_expire_date</th>\n",
       "      <th>is_cancel</th>\n",
       "    </tr>\n",
       "  </thead>\n",
       "  <tbody>\n",
       "    <tr>\n",
       "      <th>1246772</th>\n",
       "      <td>EGcbTofOSOkMmQyN1NMLxHEXJ1yV3t/JdhGwQ9wXjnI=</td>\n",
       "      <td>41</td>\n",
       "      <td>30</td>\n",
       "      <td>99</td>\n",
       "      <td>99</td>\n",
       "      <td>1</td>\n",
       "      <td>20170323</td>\n",
       "      <td>20170423</td>\n",
       "      <td>0</td>\n",
       "    </tr>\n",
       "  </tbody>\n",
       "</table>\n",
       "</div>"
      ],
      "text/plain": [
       "                                                 msno  payment_method_id  \\\n",
       "1246772  EGcbTofOSOkMmQyN1NMLxHEXJ1yV3t/JdhGwQ9wXjnI=                 41   \n",
       "\n",
       "         payment_plan_days  plan_list_price  actual_amount_paid  \\\n",
       "1246772                 30               99                  99   \n",
       "\n",
       "         is_auto_renew  transaction_date  membership_expire_date  is_cancel  \n",
       "1246772              1          20170323                20170423          0  "
      ]
     },
     "execution_count": 16,
     "metadata": {},
     "output_type": "execute_result"
    }
   ],
   "source": [
    "transactions_v2[transactions_v2['msno'] == 'EGcbTofOSOkMmQyN1NMLxHEXJ1yV3t/JdhGwQ9wXjnI=']"
   ]
  },
  {
   "cell_type": "code",
   "execution_count": 17,
   "id": "403ad100-3211-48cc-a63d-69cff4ae9a43",
   "metadata": {},
   "outputs": [
    {
     "data": {
      "text/plain": [
       "970960"
      ]
     },
     "execution_count": 17,
     "metadata": {},
     "output_type": "execute_result"
    }
   ],
   "source": [
    "train_v2['msno'].nunique()"
   ]
  },
  {
   "cell_type": "code",
   "execution_count": 147,
   "id": "1cc4f910-13fd-4c61-a12b-9daba51a3327",
   "metadata": {},
   "outputs": [
    {
     "data": {
      "text/plain": [
       "1197050"
      ]
     },
     "execution_count": 147,
     "metadata": {},
     "output_type": "execute_result"
    }
   ],
   "source": [
    "transactions_v2['msno'].nunique()"
   ]
  },
  {
   "cell_type": "code",
   "execution_count": 19,
   "id": "feb8e0a8-2222-48b2-9d21-d7b074136df3",
   "metadata": {},
   "outputs": [
    {
     "data": {
      "text/plain": [
       "msno\n",
       "72gJqt1O31E/WoxAEYFn9LHNI6mAZFGera5Q6gvsFkA=    208\n",
       "5ty4nZkq54z93wQtBN7RHVYj8rNghBDCVBH+3xmxf0I=    172\n",
       "OGKDrZQDB3yewZhoSd5qqvmG5A1GcNTYMexO95NlH+g=    148\n",
       "WHsCtkOVsauvqBL0ULuG38887y7aU8GXdCmJMjw6hjQ=    145\n",
       "SNlFRAsmUqnXKPofSXA8WYUc5DtmLcUMy4pXSJ3Ohz0=    131\n",
       "                                               ... \n",
       "+7zLPU/exjuHkWgWbPZlaTiISTa4wIz4JdSjrj09/HQ=      1\n",
       "+80beh2T6i0UctXvcbhoGWaxqAWE0KMnACtHDItZvpU=      1\n",
       "+84v5bP7WnUv89mJ4xODq4Elcze7B3ngzpePGNzd3+M=      1\n",
       "wm5QBy6T2XH84LzWZ1+7BhCyCiWaDD62VIUFbNp9UYE=      1\n",
       "+0W3Q9FSw8TLgoNke9JFl6dUeoxAOfuHarEexRPcJsA=      1\n",
       "Name: count, Length: 1197050, dtype: int64"
      ]
     },
     "execution_count": 19,
     "metadata": {},
     "output_type": "execute_result"
    }
   ],
   "source": [
    "transactions_v2['msno'].value_counts()"
   ]
  },
  {
   "cell_type": "code",
   "execution_count": 20,
   "id": "b330eda9-262d-47e2-b8e0-80d2fd7720a6",
   "metadata": {},
   "outputs": [
    {
     "data": {
      "text/html": [
       "<div>\n",
       "<style scoped>\n",
       "    .dataframe tbody tr th:only-of-type {\n",
       "        vertical-align: middle;\n",
       "    }\n",
       "\n",
       "    .dataframe tbody tr th {\n",
       "        vertical-align: top;\n",
       "    }\n",
       "\n",
       "    .dataframe thead th {\n",
       "        text-align: right;\n",
       "    }\n",
       "</style>\n",
       "<table border=\"1\" class=\"dataframe\">\n",
       "  <thead>\n",
       "    <tr style=\"text-align: right;\">\n",
       "      <th></th>\n",
       "      <th>msno</th>\n",
       "      <th>payment_method_id</th>\n",
       "      <th>payment_plan_days</th>\n",
       "      <th>plan_list_price</th>\n",
       "      <th>actual_amount_paid</th>\n",
       "      <th>is_auto_renew</th>\n",
       "      <th>transaction_date</th>\n",
       "      <th>membership_expire_date</th>\n",
       "      <th>is_cancel</th>\n",
       "    </tr>\n",
       "  </thead>\n",
       "  <tbody>\n",
       "    <tr>\n",
       "      <th>9999</th>\n",
       "      <td>OGKDrZQDB3yewZhoSd5qqvmG5A1GcNTYMexO95NlH+g=</td>\n",
       "      <td>38</td>\n",
       "      <td>7</td>\n",
       "      <td>0</td>\n",
       "      <td>0</td>\n",
       "      <td>0</td>\n",
       "      <td>20161031</td>\n",
       "      <td>20171028</td>\n",
       "      <td>0</td>\n",
       "    </tr>\n",
       "    <tr>\n",
       "      <th>10000</th>\n",
       "      <td>OGKDrZQDB3yewZhoSd5qqvmG5A1GcNTYMexO95NlH+g=</td>\n",
       "      <td>38</td>\n",
       "      <td>7</td>\n",
       "      <td>0</td>\n",
       "      <td>0</td>\n",
       "      <td>0</td>\n",
       "      <td>20161031</td>\n",
       "      <td>20190420</td>\n",
       "      <td>0</td>\n",
       "    </tr>\n",
       "    <tr>\n",
       "      <th>10001</th>\n",
       "      <td>OGKDrZQDB3yewZhoSd5qqvmG5A1GcNTYMexO95NlH+g=</td>\n",
       "      <td>38</td>\n",
       "      <td>7</td>\n",
       "      <td>0</td>\n",
       "      <td>0</td>\n",
       "      <td>0</td>\n",
       "      <td>20161031</td>\n",
       "      <td>20190427</td>\n",
       "      <td>0</td>\n",
       "    </tr>\n",
       "    <tr>\n",
       "      <th>17143</th>\n",
       "      <td>OGKDrZQDB3yewZhoSd5qqvmG5A1GcNTYMexO95NlH+g=</td>\n",
       "      <td>38</td>\n",
       "      <td>7</td>\n",
       "      <td>0</td>\n",
       "      <td>0</td>\n",
       "      <td>0</td>\n",
       "      <td>20161031</td>\n",
       "      <td>20171209</td>\n",
       "      <td>0</td>\n",
       "    </tr>\n",
       "    <tr>\n",
       "      <th>31451</th>\n",
       "      <td>OGKDrZQDB3yewZhoSd5qqvmG5A1GcNTYMexO95NlH+g=</td>\n",
       "      <td>38</td>\n",
       "      <td>7</td>\n",
       "      <td>0</td>\n",
       "      <td>0</td>\n",
       "      <td>0</td>\n",
       "      <td>20161031</td>\n",
       "      <td>20190608</td>\n",
       "      <td>0</td>\n",
       "    </tr>\n",
       "    <tr>\n",
       "      <th>...</th>\n",
       "      <td>...</td>\n",
       "      <td>...</td>\n",
       "      <td>...</td>\n",
       "      <td>...</td>\n",
       "      <td>...</td>\n",
       "      <td>...</td>\n",
       "      <td>...</td>\n",
       "      <td>...</td>\n",
       "      <td>...</td>\n",
       "    </tr>\n",
       "    <tr>\n",
       "      <th>1412513</th>\n",
       "      <td>OGKDrZQDB3yewZhoSd5qqvmG5A1GcNTYMexO95NlH+g=</td>\n",
       "      <td>38</td>\n",
       "      <td>7</td>\n",
       "      <td>0</td>\n",
       "      <td>0</td>\n",
       "      <td>0</td>\n",
       "      <td>20160813</td>\n",
       "      <td>20170701</td>\n",
       "      <td>0</td>\n",
       "    </tr>\n",
       "    <tr>\n",
       "      <th>1419619</th>\n",
       "      <td>OGKDrZQDB3yewZhoSd5qqvmG5A1GcNTYMexO95NlH+g=</td>\n",
       "      <td>38</td>\n",
       "      <td>7</td>\n",
       "      <td>0</td>\n",
       "      <td>0</td>\n",
       "      <td>0</td>\n",
       "      <td>20160813</td>\n",
       "      <td>20170617</td>\n",
       "      <td>0</td>\n",
       "    </tr>\n",
       "    <tr>\n",
       "      <th>1419620</th>\n",
       "      <td>OGKDrZQDB3yewZhoSd5qqvmG5A1GcNTYMexO95NlH+g=</td>\n",
       "      <td>38</td>\n",
       "      <td>7</td>\n",
       "      <td>0</td>\n",
       "      <td>0</td>\n",
       "      <td>0</td>\n",
       "      <td>20161031</td>\n",
       "      <td>20181215</td>\n",
       "      <td>0</td>\n",
       "    </tr>\n",
       "    <tr>\n",
       "      <th>1426809</th>\n",
       "      <td>OGKDrZQDB3yewZhoSd5qqvmG5A1GcNTYMexO95NlH+g=</td>\n",
       "      <td>38</td>\n",
       "      <td>7</td>\n",
       "      <td>0</td>\n",
       "      <td>0</td>\n",
       "      <td>0</td>\n",
       "      <td>20161031</td>\n",
       "      <td>20190202</td>\n",
       "      <td>0</td>\n",
       "    </tr>\n",
       "    <tr>\n",
       "      <th>1426810</th>\n",
       "      <td>OGKDrZQDB3yewZhoSd5qqvmG5A1GcNTYMexO95NlH+g=</td>\n",
       "      <td>38</td>\n",
       "      <td>7</td>\n",
       "      <td>0</td>\n",
       "      <td>0</td>\n",
       "      <td>0</td>\n",
       "      <td>20161031</td>\n",
       "      <td>20190831</td>\n",
       "      <td>0</td>\n",
       "    </tr>\n",
       "  </tbody>\n",
       "</table>\n",
       "<p>148 rows × 9 columns</p>\n",
       "</div>"
      ],
      "text/plain": [
       "                                                 msno  payment_method_id  \\\n",
       "9999     OGKDrZQDB3yewZhoSd5qqvmG5A1GcNTYMexO95NlH+g=                 38   \n",
       "10000    OGKDrZQDB3yewZhoSd5qqvmG5A1GcNTYMexO95NlH+g=                 38   \n",
       "10001    OGKDrZQDB3yewZhoSd5qqvmG5A1GcNTYMexO95NlH+g=                 38   \n",
       "17143    OGKDrZQDB3yewZhoSd5qqvmG5A1GcNTYMexO95NlH+g=                 38   \n",
       "31451    OGKDrZQDB3yewZhoSd5qqvmG5A1GcNTYMexO95NlH+g=                 38   \n",
       "...                                               ...                ...   \n",
       "1412513  OGKDrZQDB3yewZhoSd5qqvmG5A1GcNTYMexO95NlH+g=                 38   \n",
       "1419619  OGKDrZQDB3yewZhoSd5qqvmG5A1GcNTYMexO95NlH+g=                 38   \n",
       "1419620  OGKDrZQDB3yewZhoSd5qqvmG5A1GcNTYMexO95NlH+g=                 38   \n",
       "1426809  OGKDrZQDB3yewZhoSd5qqvmG5A1GcNTYMexO95NlH+g=                 38   \n",
       "1426810  OGKDrZQDB3yewZhoSd5qqvmG5A1GcNTYMexO95NlH+g=                 38   \n",
       "\n",
       "         payment_plan_days  plan_list_price  actual_amount_paid  \\\n",
       "9999                     7                0                   0   \n",
       "10000                    7                0                   0   \n",
       "10001                    7                0                   0   \n",
       "17143                    7                0                   0   \n",
       "31451                    7                0                   0   \n",
       "...                    ...              ...                 ...   \n",
       "1412513                  7                0                   0   \n",
       "1419619                  7                0                   0   \n",
       "1419620                  7                0                   0   \n",
       "1426809                  7                0                   0   \n",
       "1426810                  7                0                   0   \n",
       "\n",
       "         is_auto_renew  transaction_date  membership_expire_date  is_cancel  \n",
       "9999                 0          20161031                20171028          0  \n",
       "10000                0          20161031                20190420          0  \n",
       "10001                0          20161031                20190427          0  \n",
       "17143                0          20161031                20171209          0  \n",
       "31451                0          20161031                20190608          0  \n",
       "...                ...               ...                     ...        ...  \n",
       "1412513              0          20160813                20170701          0  \n",
       "1419619              0          20160813                20170617          0  \n",
       "1419620              0          20161031                20181215          0  \n",
       "1426809              0          20161031                20190202          0  \n",
       "1426810              0          20161031                20190831          0  \n",
       "\n",
       "[148 rows x 9 columns]"
      ]
     },
     "execution_count": 20,
     "metadata": {},
     "output_type": "execute_result"
    }
   ],
   "source": [
    "transactions_v2[transactions_v2['msno']=='OGKDrZQDB3yewZhoSd5qqvmG5A1GcNTYMexO95NlH+g=']"
   ]
  },
  {
   "cell_type": "code",
   "execution_count": 21,
   "id": "42792cfa-1987-405d-8ae2-976ecd19be83",
   "metadata": {},
   "outputs": [
    {
     "data": {
      "text/plain": [
       "1103894"
      ]
     },
     "execution_count": 21,
     "metadata": {},
     "output_type": "execute_result"
    }
   ],
   "source": [
    "user_logs['msno'].nunique()"
   ]
  },
  {
   "cell_type": "code",
   "execution_count": 24,
   "id": "466349aa-a17e-4fc6-afd3-2ebe6e5edaf7",
   "metadata": {},
   "outputs": [
    {
     "data": {
      "text/plain": [
       "msno\n",
       "b74Xot5HcOL8YQGiuwLw+Cm7RyGV2fOkGczJomGLocg=    31\n",
       "vg16qtAlmVzBB8Ro/Nw4ufokUufkmiPWD+lfYXv5gwA=    31\n",
       "u9E91QDTvHLq6NXjEaWv8u4QIqhrHk72kE+w31Gnhdg=    31\n",
       "PaVUCAJf0q9Nk+UJP/cIwe5p8GkaiPIHO6rwMJAEGBE=    31\n",
       "i7fqKDFXkrheRQ+PTKw3jErC2epEF6ZTRbTWvyy69ys=    31\n",
       "                                                ..\n",
       "V3P48TzUSFSFhJ8vrnE5SmphdmFx4zSgrU5Otelb2/o=     1\n",
       "dcbbkigmeuyHFeJCCUxXY/kwbKMax/0CLemuwJu87Pg=     1\n",
       "//1Lq5SYI3V0rInzVFqUEdAXXxvM7o6E5myFDpT5rTc=     1\n",
       "0s5BsoimuJTfJuqOfPZ+QVSl+7GKc4OR2eZY0Ic/Vm0=     1\n",
       "SIaH7szBWJf7vp3TCAjabNY5IDLaSaycNe8L1QPq48k=     1\n",
       "Name: count, Length: 1103894, dtype: int64"
      ]
     },
     "execution_count": 24,
     "metadata": {},
     "output_type": "execute_result"
    }
   ],
   "source": [
    "user_logs['msno'].value_counts()"
   ]
  },
  {
   "cell_type": "code",
   "execution_count": 25,
   "id": "24f49d5f-9dbb-4bbb-86b2-ec1a1fe5a4a0",
   "metadata": {},
   "outputs": [
    {
     "data": {
      "text/plain": [
       "msno\n",
       "Rb9UwLQTrxzBVwCB6+bCcSQWZ9JiNLC9dXtM1oEsZA8=    1\n",
       "+tJonkh+O1CA796Fm5X60UMOtB6POHAwPjbTRVl/EuU=    1\n",
       "cV358ssn7a0f7jZOwGNWS07wCKVqxyiImJUX6xcIwKw=    1\n",
       "9bzDeJP6sQodK73K5CBlJ6fgIQzPeLnRl0p5B77XP+g=    1\n",
       "WFLY3s7z4EZsieHCt63XrsdtfTEmJ+2PnnKLH5GY4Tk=    1\n",
       "                                               ..\n",
       "VSGkb3hyBRUtb/b1MQUZbvOkktS3vKLnhMHW0CF8eyU=    1\n",
       "nWjH7glPkZ7jOVaCRwwjlpmp0T1hSWdv8hMJxiWCwKc=    1\n",
       "GH+b5+1tlv7ZZXsA8upBzVXMTLyffKcsF7WoU8b5rOI=    1\n",
       "XVlwT3fdCFGKqerEKBzUIjK+jzI6jzSke4cDMVhYyjE=    1\n",
       "isBt+JlgvZRNy6lxVr5vvuJ4lD00ofTaKyJ+uRnGcPg=    1\n",
       "Name: count, Length: 6769473, dtype: int64"
      ]
     },
     "execution_count": 25,
     "metadata": {},
     "output_type": "execute_result"
    }
   ],
   "source": [
    "members['msno'].value_counts()"
   ]
  },
  {
   "cell_type": "code",
   "execution_count": 158,
   "id": "860321ed-08f6-4d37-a312-5225cab827b5",
   "metadata": {},
   "outputs": [],
   "source": [
    "transactions_agg = transactions_v2.groupby('msno').agg(\n",
    "    payment_plan_days_mean=('payment_plan_days', 'mean'),  \n",
    "    payment_plan_days_max=('payment_plan_days', 'max'),    \n",
    "    plan_list_price_mean=('plan_list_price', 'mean'),      \n",
    "    actual_amount_paid_sum=('actual_amount_paid', 'sum'),  \n",
    "    is_auto_renew_mean=('is_auto_renew', 'mean'),          \n",
    "    is_cancel_mean=('is_cancel', 'mean')                   \n",
    ").reset_index()"
   ]
  },
  {
   "cell_type": "code",
   "execution_count": 159,
   "id": "714a4753-2079-466c-b383-6893757567f0",
   "metadata": {},
   "outputs": [
    {
     "data": {
      "text/html": [
       "<div>\n",
       "<style scoped>\n",
       "    .dataframe tbody tr th:only-of-type {\n",
       "        vertical-align: middle;\n",
       "    }\n",
       "\n",
       "    .dataframe tbody tr th {\n",
       "        vertical-align: top;\n",
       "    }\n",
       "\n",
       "    .dataframe thead th {\n",
       "        text-align: right;\n",
       "    }\n",
       "</style>\n",
       "<table border=\"1\" class=\"dataframe\">\n",
       "  <thead>\n",
       "    <tr style=\"text-align: right;\">\n",
       "      <th></th>\n",
       "      <th>msno</th>\n",
       "      <th>payment_plan_days_mean</th>\n",
       "      <th>payment_plan_days_max</th>\n",
       "      <th>plan_list_price_mean</th>\n",
       "      <th>actual_amount_paid_sum</th>\n",
       "      <th>is_auto_renew_mean</th>\n",
       "      <th>is_cancel_mean</th>\n",
       "    </tr>\n",
       "  </thead>\n",
       "  <tbody>\n",
       "    <tr>\n",
       "      <th>0</th>\n",
       "      <td>+++IZseRRiQS9aaSkH6cMYU6bGDcxUieAi/tH67sC5s=</td>\n",
       "      <td>395.0</td>\n",
       "      <td>395</td>\n",
       "      <td>1599.0</td>\n",
       "      <td>1599</td>\n",
       "      <td>0.0</td>\n",
       "      <td>0.0</td>\n",
       "    </tr>\n",
       "    <tr>\n",
       "      <th>1</th>\n",
       "      <td>+++hVY1rZox/33YtvDgmKA2Frg/2qhkz12B9ylCvh8o=</td>\n",
       "      <td>30.0</td>\n",
       "      <td>30</td>\n",
       "      <td>99.0</td>\n",
       "      <td>99</td>\n",
       "      <td>1.0</td>\n",
       "      <td>0.0</td>\n",
       "    </tr>\n",
       "    <tr>\n",
       "      <th>2</th>\n",
       "      <td>+++l/EXNMLTijfLBa8p2TUVVVp2aFGSuUI/h7mLmthw=</td>\n",
       "      <td>30.0</td>\n",
       "      <td>30</td>\n",
       "      <td>149.0</td>\n",
       "      <td>298</td>\n",
       "      <td>1.0</td>\n",
       "      <td>0.0</td>\n",
       "    </tr>\n",
       "    <tr>\n",
       "      <th>3</th>\n",
       "      <td>+++snpr7pmobhLKUgSHTv/mpkqgBT0tQJ0zQj6qKrqc=</td>\n",
       "      <td>30.0</td>\n",
       "      <td>30</td>\n",
       "      <td>149.0</td>\n",
       "      <td>149</td>\n",
       "      <td>1.0</td>\n",
       "      <td>0.0</td>\n",
       "    </tr>\n",
       "    <tr>\n",
       "      <th>4</th>\n",
       "      <td>++/9R3sX37CjxbY/AaGvbwr3QkwElKBCtSvVzhCBDOk=</td>\n",
       "      <td>30.0</td>\n",
       "      <td>30</td>\n",
       "      <td>149.0</td>\n",
       "      <td>149</td>\n",
       "      <td>1.0</td>\n",
       "      <td>0.0</td>\n",
       "    </tr>\n",
       "  </tbody>\n",
       "</table>\n",
       "</div>"
      ],
      "text/plain": [
       "                                           msno  payment_plan_days_mean  \\\n",
       "0  +++IZseRRiQS9aaSkH6cMYU6bGDcxUieAi/tH67sC5s=                   395.0   \n",
       "1  +++hVY1rZox/33YtvDgmKA2Frg/2qhkz12B9ylCvh8o=                    30.0   \n",
       "2  +++l/EXNMLTijfLBa8p2TUVVVp2aFGSuUI/h7mLmthw=                    30.0   \n",
       "3  +++snpr7pmobhLKUgSHTv/mpkqgBT0tQJ0zQj6qKrqc=                    30.0   \n",
       "4  ++/9R3sX37CjxbY/AaGvbwr3QkwElKBCtSvVzhCBDOk=                    30.0   \n",
       "\n",
       "   payment_plan_days_max  plan_list_price_mean  actual_amount_paid_sum  \\\n",
       "0                    395                1599.0                    1599   \n",
       "1                     30                  99.0                      99   \n",
       "2                     30                 149.0                     298   \n",
       "3                     30                 149.0                     149   \n",
       "4                     30                 149.0                     149   \n",
       "\n",
       "   is_auto_renew_mean  is_cancel_mean  \n",
       "0                 0.0             0.0  \n",
       "1                 1.0             0.0  \n",
       "2                 1.0             0.0  \n",
       "3                 1.0             0.0  \n",
       "4                 1.0             0.0  "
      ]
     },
     "execution_count": 159,
     "metadata": {},
     "output_type": "execute_result"
    }
   ],
   "source": [
    "transactions_agg.head()"
   ]
  },
  {
   "cell_type": "code",
   "execution_count": 160,
   "id": "f5048f4e-a582-418c-aa87-fb9c78730054",
   "metadata": {},
   "outputs": [
    {
     "data": {
      "text/html": [
       "<div>\n",
       "<style scoped>\n",
       "    .dataframe tbody tr th:only-of-type {\n",
       "        vertical-align: middle;\n",
       "    }\n",
       "\n",
       "    .dataframe tbody tr th {\n",
       "        vertical-align: top;\n",
       "    }\n",
       "\n",
       "    .dataframe thead th {\n",
       "        text-align: right;\n",
       "    }\n",
       "</style>\n",
       "<table border=\"1\" class=\"dataframe\">\n",
       "  <thead>\n",
       "    <tr style=\"text-align: right;\">\n",
       "      <th></th>\n",
       "      <th>msno</th>\n",
       "      <th>payment_plan_days_mean</th>\n",
       "      <th>payment_plan_days_max</th>\n",
       "      <th>plan_list_price_mean</th>\n",
       "      <th>actual_amount_paid_sum</th>\n",
       "      <th>is_auto_renew_mean</th>\n",
       "      <th>is_cancel_mean</th>\n",
       "    </tr>\n",
       "  </thead>\n",
       "  <tbody>\n",
       "    <tr>\n",
       "      <th>99</th>\n",
       "      <td>++NdP5GS9hxpyOaig+eMIWJ1gw8VmC85qTsEG5YMs+w=</td>\n",
       "      <td>385.0</td>\n",
       "      <td>410</td>\n",
       "      <td>1494.0</td>\n",
       "      <td>2988</td>\n",
       "      <td>0.000000</td>\n",
       "      <td>0.0</td>\n",
       "    </tr>\n",
       "    <tr>\n",
       "      <th>125</th>\n",
       "      <td>++VJ+Lla5fcEpsJWCHx7i7x7LBdGkBiFTz3oBH3THOc=</td>\n",
       "      <td>300.0</td>\n",
       "      <td>360</td>\n",
       "      <td>1200.0</td>\n",
       "      <td>2400</td>\n",
       "      <td>0.000000</td>\n",
       "      <td>0.0</td>\n",
       "    </tr>\n",
       "    <tr>\n",
       "      <th>142</th>\n",
       "      <td>++Z7/94w4+ZvUIgyOWeMzefNr1EYmXfOg86g23FKgPo=</td>\n",
       "      <td>170.0</td>\n",
       "      <td>240</td>\n",
       "      <td>460.0</td>\n",
       "      <td>1380</td>\n",
       "      <td>0.000000</td>\n",
       "      <td>0.0</td>\n",
       "    </tr>\n",
       "    <tr>\n",
       "      <th>192</th>\n",
       "      <td>++jBVxyDBQXJ9ykE/NhDM5t/4Lo4v0IRxqNXMPLCFE0=</td>\n",
       "      <td>101.0</td>\n",
       "      <td>195</td>\n",
       "      <td>447.0</td>\n",
       "      <td>894</td>\n",
       "      <td>0.000000</td>\n",
       "      <td>0.0</td>\n",
       "    </tr>\n",
       "    <tr>\n",
       "      <th>203</th>\n",
       "      <td>++lJ3R8mLL7PpfIFAuQjx2J3le8JJ4Sk3RrgBX54qOk=</td>\n",
       "      <td>48.5</td>\n",
       "      <td>90</td>\n",
       "      <td>238.5</td>\n",
       "      <td>477</td>\n",
       "      <td>0.000000</td>\n",
       "      <td>0.0</td>\n",
       "    </tr>\n",
       "    <tr>\n",
       "      <th>...</th>\n",
       "      <td>...</td>\n",
       "      <td>...</td>\n",
       "      <td>...</td>\n",
       "      <td>...</td>\n",
       "      <td>...</td>\n",
       "      <td>...</td>\n",
       "      <td>...</td>\n",
       "    </tr>\n",
       "    <tr>\n",
       "      <th>1196831</th>\n",
       "      <td>zzBnipQsAp1Ryo6Dsj0RK3KAzRAIYmmBrCvoekz0ZyA=</td>\n",
       "      <td>75.0</td>\n",
       "      <td>90</td>\n",
       "      <td>300.0</td>\n",
       "      <td>600</td>\n",
       "      <td>0.000000</td>\n",
       "      <td>0.0</td>\n",
       "    </tr>\n",
       "    <tr>\n",
       "      <th>1196946</th>\n",
       "      <td>zzeFxWafyReztil+10cmNEdlD4tEXUSt9+/zZZuUMls=</td>\n",
       "      <td>300.0</td>\n",
       "      <td>360</td>\n",
       "      <td>1200.0</td>\n",
       "      <td>2400</td>\n",
       "      <td>0.000000</td>\n",
       "      <td>0.0</td>\n",
       "    </tr>\n",
       "    <tr>\n",
       "      <th>1197004</th>\n",
       "      <td>zzoDlpMVa28r4EW18mzyEFDu/c/swxxeMPGLTinccc4=</td>\n",
       "      <td>300.0</td>\n",
       "      <td>360</td>\n",
       "      <td>1200.0</td>\n",
       "      <td>2400</td>\n",
       "      <td>0.000000</td>\n",
       "      <td>0.0</td>\n",
       "    </tr>\n",
       "    <tr>\n",
       "      <th>1197005</th>\n",
       "      <td>zzoaEw67A/0C1+4/RgRCBOVK+zsL1xJTMJMTdF42FxM=</td>\n",
       "      <td>80.0</td>\n",
       "      <td>180</td>\n",
       "      <td>278.0</td>\n",
       "      <td>834</td>\n",
       "      <td>0.666667</td>\n",
       "      <td>0.0</td>\n",
       "    </tr>\n",
       "    <tr>\n",
       "      <th>1197039</th>\n",
       "      <td>zzx3CIwD26Wwa3Uxdmj848i6g6ctAc4TQtofdSP3JXw=</td>\n",
       "      <td>300.0</td>\n",
       "      <td>360</td>\n",
       "      <td>1200.0</td>\n",
       "      <td>2400</td>\n",
       "      <td>0.000000</td>\n",
       "      <td>0.0</td>\n",
       "    </tr>\n",
       "  </tbody>\n",
       "</table>\n",
       "<p>19466 rows × 7 columns</p>\n",
       "</div>"
      ],
      "text/plain": [
       "                                                 msno  payment_plan_days_mean  \\\n",
       "99       ++NdP5GS9hxpyOaig+eMIWJ1gw8VmC85qTsEG5YMs+w=                   385.0   \n",
       "125      ++VJ+Lla5fcEpsJWCHx7i7x7LBdGkBiFTz3oBH3THOc=                   300.0   \n",
       "142      ++Z7/94w4+ZvUIgyOWeMzefNr1EYmXfOg86g23FKgPo=                   170.0   \n",
       "192      ++jBVxyDBQXJ9ykE/NhDM5t/4Lo4v0IRxqNXMPLCFE0=                   101.0   \n",
       "203      ++lJ3R8mLL7PpfIFAuQjx2J3le8JJ4Sk3RrgBX54qOk=                    48.5   \n",
       "...                                               ...                     ...   \n",
       "1196831  zzBnipQsAp1Ryo6Dsj0RK3KAzRAIYmmBrCvoekz0ZyA=                    75.0   \n",
       "1196946  zzeFxWafyReztil+10cmNEdlD4tEXUSt9+/zZZuUMls=                   300.0   \n",
       "1197004  zzoDlpMVa28r4EW18mzyEFDu/c/swxxeMPGLTinccc4=                   300.0   \n",
       "1197005  zzoaEw67A/0C1+4/RgRCBOVK+zsL1xJTMJMTdF42FxM=                    80.0   \n",
       "1197039  zzx3CIwD26Wwa3Uxdmj848i6g6ctAc4TQtofdSP3JXw=                   300.0   \n",
       "\n",
       "         payment_plan_days_max  plan_list_price_mean  actual_amount_paid_sum  \\\n",
       "99                         410                1494.0                    2988   \n",
       "125                        360                1200.0                    2400   \n",
       "142                        240                 460.0                    1380   \n",
       "192                        195                 447.0                     894   \n",
       "203                         90                 238.5                     477   \n",
       "...                        ...                   ...                     ...   \n",
       "1196831                     90                 300.0                     600   \n",
       "1196946                    360                1200.0                    2400   \n",
       "1197004                    360                1200.0                    2400   \n",
       "1197005                    180                 278.0                     834   \n",
       "1197039                    360                1200.0                    2400   \n",
       "\n",
       "         is_auto_renew_mean  is_cancel_mean  \n",
       "99                 0.000000             0.0  \n",
       "125                0.000000             0.0  \n",
       "142                0.000000             0.0  \n",
       "192                0.000000             0.0  \n",
       "203                0.000000             0.0  \n",
       "...                     ...             ...  \n",
       "1196831            0.000000             0.0  \n",
       "1196946            0.000000             0.0  \n",
       "1197004            0.000000             0.0  \n",
       "1197005            0.666667             0.0  \n",
       "1197039            0.000000             0.0  \n",
       "\n",
       "[19466 rows x 7 columns]"
      ]
     },
     "execution_count": 160,
     "metadata": {},
     "output_type": "execute_result"
    }
   ],
   "source": [
    "mask = transactions_agg['payment_plan_days_mean'] != transactions_agg['payment_plan_days_max']\n",
    "\n",
    "transactions_agg[mask]"
   ]
  },
  {
   "cell_type": "code",
   "execution_count": 161,
   "id": "c97084bf-5b4b-40d5-bfb3-c8f067f6b333",
   "metadata": {},
   "outputs": [],
   "source": [
    "train_transaction = pd.merge(train_v2,transactions_agg,on='msno',how='inner')"
   ]
  },
  {
   "cell_type": "code",
   "execution_count": 162,
   "id": "25242857-ed95-4c3e-8f2e-617cf00761fd",
   "metadata": {},
   "outputs": [
    {
     "data": {
      "text/html": [
       "<div>\n",
       "<style scoped>\n",
       "    .dataframe tbody tr th:only-of-type {\n",
       "        vertical-align: middle;\n",
       "    }\n",
       "\n",
       "    .dataframe tbody tr th {\n",
       "        vertical-align: top;\n",
       "    }\n",
       "\n",
       "    .dataframe thead th {\n",
       "        text-align: right;\n",
       "    }\n",
       "</style>\n",
       "<table border=\"1\" class=\"dataframe\">\n",
       "  <thead>\n",
       "    <tr style=\"text-align: right;\">\n",
       "      <th></th>\n",
       "      <th>msno</th>\n",
       "      <th>is_churn</th>\n",
       "      <th>payment_plan_days_mean</th>\n",
       "      <th>payment_plan_days_max</th>\n",
       "      <th>plan_list_price_mean</th>\n",
       "      <th>actual_amount_paid_sum</th>\n",
       "      <th>is_auto_renew_mean</th>\n",
       "      <th>is_cancel_mean</th>\n",
       "    </tr>\n",
       "  </thead>\n",
       "  <tbody>\n",
       "    <tr>\n",
       "      <th>0</th>\n",
       "      <td>f/NmvEzHfhINFEYZTR05prUdr+E+3+oewvweYz9cCQE=</td>\n",
       "      <td>1</td>\n",
       "      <td>30.0</td>\n",
       "      <td>30</td>\n",
       "      <td>180.0</td>\n",
       "      <td>180</td>\n",
       "      <td>0.0</td>\n",
       "      <td>0.000</td>\n",
       "    </tr>\n",
       "    <tr>\n",
       "      <th>1</th>\n",
       "      <td>zLo9f73nGGT1p21ltZC3ChiRnAVvgibMyazbCxvWPcg=</td>\n",
       "      <td>1</td>\n",
       "      <td>75.0</td>\n",
       "      <td>90</td>\n",
       "      <td>150.0</td>\n",
       "      <td>300</td>\n",
       "      <td>0.0</td>\n",
       "      <td>0.000</td>\n",
       "    </tr>\n",
       "    <tr>\n",
       "      <th>2</th>\n",
       "      <td>8iF/+8HY8lJKFrTc7iR9ZYGCG2Ecrogbc2Vy5YhsfhQ=</td>\n",
       "      <td>1</td>\n",
       "      <td>30.0</td>\n",
       "      <td>30</td>\n",
       "      <td>149.0</td>\n",
       "      <td>1490</td>\n",
       "      <td>1.0</td>\n",
       "      <td>0.000</td>\n",
       "    </tr>\n",
       "    <tr>\n",
       "      <th>3</th>\n",
       "      <td>K6fja4+jmoZ5xG6BypqX80Uw/XKpMgrEMdG2edFOxnA=</td>\n",
       "      <td>1</td>\n",
       "      <td>30.0</td>\n",
       "      <td>30</td>\n",
       "      <td>99.0</td>\n",
       "      <td>792</td>\n",
       "      <td>1.0</td>\n",
       "      <td>0.125</td>\n",
       "    </tr>\n",
       "    <tr>\n",
       "      <th>4</th>\n",
       "      <td>ibIHVYBqxGwrSExE63/omeDD99M5vYB3CN2HzkEY+eM=</td>\n",
       "      <td>1</td>\n",
       "      <td>30.0</td>\n",
       "      <td>30</td>\n",
       "      <td>149.0</td>\n",
       "      <td>149</td>\n",
       "      <td>1.0</td>\n",
       "      <td>1.000</td>\n",
       "    </tr>\n",
       "  </tbody>\n",
       "</table>\n",
       "</div>"
      ],
      "text/plain": [
       "                                           msno  is_churn  \\\n",
       "0  f/NmvEzHfhINFEYZTR05prUdr+E+3+oewvweYz9cCQE=         1   \n",
       "1  zLo9f73nGGT1p21ltZC3ChiRnAVvgibMyazbCxvWPcg=         1   \n",
       "2  8iF/+8HY8lJKFrTc7iR9ZYGCG2Ecrogbc2Vy5YhsfhQ=         1   \n",
       "3  K6fja4+jmoZ5xG6BypqX80Uw/XKpMgrEMdG2edFOxnA=         1   \n",
       "4  ibIHVYBqxGwrSExE63/omeDD99M5vYB3CN2HzkEY+eM=         1   \n",
       "\n",
       "   payment_plan_days_mean  payment_plan_days_max  plan_list_price_mean  \\\n",
       "0                    30.0                     30                 180.0   \n",
       "1                    75.0                     90                 150.0   \n",
       "2                    30.0                     30                 149.0   \n",
       "3                    30.0                     30                  99.0   \n",
       "4                    30.0                     30                 149.0   \n",
       "\n",
       "   actual_amount_paid_sum  is_auto_renew_mean  is_cancel_mean  \n",
       "0                     180                 0.0           0.000  \n",
       "1                     300                 0.0           0.000  \n",
       "2                    1490                 1.0           0.000  \n",
       "3                     792                 1.0           0.125  \n",
       "4                     149                 1.0           1.000  "
      ]
     },
     "execution_count": 162,
     "metadata": {},
     "output_type": "execute_result"
    }
   ],
   "source": [
    "train_transaction.head()"
   ]
  },
  {
   "cell_type": "code",
   "execution_count": 163,
   "id": "cb7d0aba-08b3-4062-8f38-a30398049f3c",
   "metadata": {},
   "outputs": [],
   "source": [
    "user_logs_agg = user_logs.groupby('msno').agg({\n",
    "    'date': 'nunique',     \n",
    "    'num_25': 'sum',\n",
    "    'num_50': 'sum',\n",
    "    'num_75': 'sum',\n",
    "    'num_985': 'sum',\n",
    "    'num_100' : 'sum',\n",
    "    'num_unq':'sum',\n",
    "    'total_secs':'sum'\n",
    "})"
   ]
  },
  {
   "cell_type": "code",
   "execution_count": 164,
   "id": "4c845bc1-fa7a-43a4-8f9c-9f59776d22cf",
   "metadata": {},
   "outputs": [
    {
     "data": {
      "text/html": [
       "<div>\n",
       "<style scoped>\n",
       "    .dataframe tbody tr th:only-of-type {\n",
       "        vertical-align: middle;\n",
       "    }\n",
       "\n",
       "    .dataframe tbody tr th {\n",
       "        vertical-align: top;\n",
       "    }\n",
       "\n",
       "    .dataframe thead th {\n",
       "        text-align: right;\n",
       "    }\n",
       "</style>\n",
       "<table border=\"1\" class=\"dataframe\">\n",
       "  <thead>\n",
       "    <tr style=\"text-align: right;\">\n",
       "      <th></th>\n",
       "      <th>date</th>\n",
       "      <th>num_25</th>\n",
       "      <th>num_50</th>\n",
       "      <th>num_75</th>\n",
       "      <th>num_985</th>\n",
       "      <th>num_100</th>\n",
       "      <th>num_unq</th>\n",
       "      <th>total_secs</th>\n",
       "    </tr>\n",
       "    <tr>\n",
       "      <th>msno</th>\n",
       "      <th></th>\n",
       "      <th></th>\n",
       "      <th></th>\n",
       "      <th></th>\n",
       "      <th></th>\n",
       "      <th></th>\n",
       "      <th></th>\n",
       "      <th></th>\n",
       "    </tr>\n",
       "  </thead>\n",
       "  <tbody>\n",
       "    <tr>\n",
       "      <th>+++IZseRRiQS9aaSkH6cMYU6bGDcxUieAi/tH67sC5s=</th>\n",
       "      <td>26</td>\n",
       "      <td>86</td>\n",
       "      <td>11</td>\n",
       "      <td>10</td>\n",
       "      <td>5</td>\n",
       "      <td>472</td>\n",
       "      <td>530</td>\n",
       "      <td>117907.425</td>\n",
       "    </tr>\n",
       "    <tr>\n",
       "      <th>+++hVY1rZox/33YtvDgmKA2Frg/2qhkz12B9ylCvh8o=</th>\n",
       "      <td>31</td>\n",
       "      <td>191</td>\n",
       "      <td>90</td>\n",
       "      <td>75</td>\n",
       "      <td>144</td>\n",
       "      <td>589</td>\n",
       "      <td>885</td>\n",
       "      <td>192527.892</td>\n",
       "    </tr>\n",
       "    <tr>\n",
       "      <th>+++l/EXNMLTijfLBa8p2TUVVVp2aFGSuUI/h7mLmthw=</th>\n",
       "      <td>28</td>\n",
       "      <td>43</td>\n",
       "      <td>12</td>\n",
       "      <td>15</td>\n",
       "      <td>12</td>\n",
       "      <td>485</td>\n",
       "      <td>468</td>\n",
       "      <td>115411.260</td>\n",
       "    </tr>\n",
       "    <tr>\n",
       "      <th>+++snpr7pmobhLKUgSHTv/mpkqgBT0tQJ0zQj6qKrqc=</th>\n",
       "      <td>21</td>\n",
       "      <td>207</td>\n",
       "      <td>163</td>\n",
       "      <td>100</td>\n",
       "      <td>64</td>\n",
       "      <td>436</td>\n",
       "      <td>828</td>\n",
       "      <td>149896.558</td>\n",
       "    </tr>\n",
       "    <tr>\n",
       "      <th>++/9R3sX37CjxbY/AaGvbwr3QkwElKBCtSvVzhCBDOk=</th>\n",
       "      <td>29</td>\n",
       "      <td>105</td>\n",
       "      <td>24</td>\n",
       "      <td>39</td>\n",
       "      <td>35</td>\n",
       "      <td>479</td>\n",
       "      <td>230</td>\n",
       "      <td>116433.247</td>\n",
       "    </tr>\n",
       "  </tbody>\n",
       "</table>\n",
       "</div>"
      ],
      "text/plain": [
       "                                              date  num_25  num_50  num_75  \\\n",
       "msno                                                                         \n",
       "+++IZseRRiQS9aaSkH6cMYU6bGDcxUieAi/tH67sC5s=    26      86      11      10   \n",
       "+++hVY1rZox/33YtvDgmKA2Frg/2qhkz12B9ylCvh8o=    31     191      90      75   \n",
       "+++l/EXNMLTijfLBa8p2TUVVVp2aFGSuUI/h7mLmthw=    28      43      12      15   \n",
       "+++snpr7pmobhLKUgSHTv/mpkqgBT0tQJ0zQj6qKrqc=    21     207     163     100   \n",
       "++/9R3sX37CjxbY/AaGvbwr3QkwElKBCtSvVzhCBDOk=    29     105      24      39   \n",
       "\n",
       "                                              num_985  num_100  num_unq  \\\n",
       "msno                                                                      \n",
       "+++IZseRRiQS9aaSkH6cMYU6bGDcxUieAi/tH67sC5s=        5      472      530   \n",
       "+++hVY1rZox/33YtvDgmKA2Frg/2qhkz12B9ylCvh8o=      144      589      885   \n",
       "+++l/EXNMLTijfLBa8p2TUVVVp2aFGSuUI/h7mLmthw=       12      485      468   \n",
       "+++snpr7pmobhLKUgSHTv/mpkqgBT0tQJ0zQj6qKrqc=       64      436      828   \n",
       "++/9R3sX37CjxbY/AaGvbwr3QkwElKBCtSvVzhCBDOk=       35      479      230   \n",
       "\n",
       "                                              total_secs  \n",
       "msno                                                      \n",
       "+++IZseRRiQS9aaSkH6cMYU6bGDcxUieAi/tH67sC5s=  117907.425  \n",
       "+++hVY1rZox/33YtvDgmKA2Frg/2qhkz12B9ylCvh8o=  192527.892  \n",
       "+++l/EXNMLTijfLBa8p2TUVVVp2aFGSuUI/h7mLmthw=  115411.260  \n",
       "+++snpr7pmobhLKUgSHTv/mpkqgBT0tQJ0zQj6qKrqc=  149896.558  \n",
       "++/9R3sX37CjxbY/AaGvbwr3QkwElKBCtSvVzhCBDOk=  116433.247  "
      ]
     },
     "execution_count": 164,
     "metadata": {},
     "output_type": "execute_result"
    }
   ],
   "source": [
    "user_logs_agg.head()"
   ]
  },
  {
   "cell_type": "code",
   "execution_count": 165,
   "id": "ebd6ef19-d2a9-49a6-b1e7-70e066b8db7a",
   "metadata": {},
   "outputs": [],
   "source": [
    "user_main = pd.merge(train_transaction,user_logs_agg,on='msno',how='inner')"
   ]
  },
  {
   "cell_type": "code",
   "execution_count": 166,
   "id": "23752469-23d2-415b-9e9d-b43ad05e9497",
   "metadata": {},
   "outputs": [
    {
     "data": {
      "text/html": [
       "<div>\n",
       "<style scoped>\n",
       "    .dataframe tbody tr th:only-of-type {\n",
       "        vertical-align: middle;\n",
       "    }\n",
       "\n",
       "    .dataframe tbody tr th {\n",
       "        vertical-align: top;\n",
       "    }\n",
       "\n",
       "    .dataframe thead th {\n",
       "        text-align: right;\n",
       "    }\n",
       "</style>\n",
       "<table border=\"1\" class=\"dataframe\">\n",
       "  <thead>\n",
       "    <tr style=\"text-align: right;\">\n",
       "      <th></th>\n",
       "      <th>msno</th>\n",
       "      <th>is_churn</th>\n",
       "      <th>payment_plan_days_mean</th>\n",
       "      <th>payment_plan_days_max</th>\n",
       "      <th>plan_list_price_mean</th>\n",
       "      <th>actual_amount_paid_sum</th>\n",
       "      <th>is_auto_renew_mean</th>\n",
       "      <th>is_cancel_mean</th>\n",
       "      <th>date</th>\n",
       "      <th>num_25</th>\n",
       "      <th>num_50</th>\n",
       "      <th>num_75</th>\n",
       "      <th>num_985</th>\n",
       "      <th>num_100</th>\n",
       "      <th>num_unq</th>\n",
       "      <th>total_secs</th>\n",
       "    </tr>\n",
       "  </thead>\n",
       "  <tbody>\n",
       "    <tr>\n",
       "      <th>0</th>\n",
       "      <td>f/NmvEzHfhINFEYZTR05prUdr+E+3+oewvweYz9cCQE=</td>\n",
       "      <td>1</td>\n",
       "      <td>30.0</td>\n",
       "      <td>30</td>\n",
       "      <td>180.0</td>\n",
       "      <td>180</td>\n",
       "      <td>0.0</td>\n",
       "      <td>0.000</td>\n",
       "      <td>6</td>\n",
       "      <td>0</td>\n",
       "      <td>4</td>\n",
       "      <td>2</td>\n",
       "      <td>0</td>\n",
       "      <td>26</td>\n",
       "      <td>30</td>\n",
       "      <td>6986.509</td>\n",
       "    </tr>\n",
       "    <tr>\n",
       "      <th>1</th>\n",
       "      <td>zLo9f73nGGT1p21ltZC3ChiRnAVvgibMyazbCxvWPcg=</td>\n",
       "      <td>1</td>\n",
       "      <td>75.0</td>\n",
       "      <td>90</td>\n",
       "      <td>150.0</td>\n",
       "      <td>300</td>\n",
       "      <td>0.0</td>\n",
       "      <td>0.000</td>\n",
       "      <td>20</td>\n",
       "      <td>239</td>\n",
       "      <td>57</td>\n",
       "      <td>32</td>\n",
       "      <td>22</td>\n",
       "      <td>205</td>\n",
       "      <td>432</td>\n",
       "      <td>67810.467</td>\n",
       "    </tr>\n",
       "    <tr>\n",
       "      <th>2</th>\n",
       "      <td>K6fja4+jmoZ5xG6BypqX80Uw/XKpMgrEMdG2edFOxnA=</td>\n",
       "      <td>1</td>\n",
       "      <td>30.0</td>\n",
       "      <td>30</td>\n",
       "      <td>99.0</td>\n",
       "      <td>792</td>\n",
       "      <td>1.0</td>\n",
       "      <td>0.125</td>\n",
       "      <td>15</td>\n",
       "      <td>9</td>\n",
       "      <td>7</td>\n",
       "      <td>4</td>\n",
       "      <td>4</td>\n",
       "      <td>962</td>\n",
       "      <td>548</td>\n",
       "      <td>239882.241</td>\n",
       "    </tr>\n",
       "    <tr>\n",
       "      <th>3</th>\n",
       "      <td>ibIHVYBqxGwrSExE63/omeDD99M5vYB3CN2HzkEY+eM=</td>\n",
       "      <td>1</td>\n",
       "      <td>30.0</td>\n",
       "      <td>30</td>\n",
       "      <td>149.0</td>\n",
       "      <td>149</td>\n",
       "      <td>1.0</td>\n",
       "      <td>1.000</td>\n",
       "      <td>4</td>\n",
       "      <td>6</td>\n",
       "      <td>1</td>\n",
       "      <td>1</td>\n",
       "      <td>4</td>\n",
       "      <td>37</td>\n",
       "      <td>48</td>\n",
       "      <td>10110.665</td>\n",
       "    </tr>\n",
       "    <tr>\n",
       "      <th>4</th>\n",
       "      <td>moRTKhKIDvb+C8ZHOgmaF4dXMLk0jOn65d7a8tQ2Eds=</td>\n",
       "      <td>1</td>\n",
       "      <td>410.0</td>\n",
       "      <td>410</td>\n",
       "      <td>1788.0</td>\n",
       "      <td>1788</td>\n",
       "      <td>0.0</td>\n",
       "      <td>0.000</td>\n",
       "      <td>31</td>\n",
       "      <td>78</td>\n",
       "      <td>20</td>\n",
       "      <td>30</td>\n",
       "      <td>16</td>\n",
       "      <td>1023</td>\n",
       "      <td>758</td>\n",
       "      <td>290831.795</td>\n",
       "    </tr>\n",
       "  </tbody>\n",
       "</table>\n",
       "</div>"
      ],
      "text/plain": [
       "                                           msno  is_churn  \\\n",
       "0  f/NmvEzHfhINFEYZTR05prUdr+E+3+oewvweYz9cCQE=         1   \n",
       "1  zLo9f73nGGT1p21ltZC3ChiRnAVvgibMyazbCxvWPcg=         1   \n",
       "2  K6fja4+jmoZ5xG6BypqX80Uw/XKpMgrEMdG2edFOxnA=         1   \n",
       "3  ibIHVYBqxGwrSExE63/omeDD99M5vYB3CN2HzkEY+eM=         1   \n",
       "4  moRTKhKIDvb+C8ZHOgmaF4dXMLk0jOn65d7a8tQ2Eds=         1   \n",
       "\n",
       "   payment_plan_days_mean  payment_plan_days_max  plan_list_price_mean  \\\n",
       "0                    30.0                     30                 180.0   \n",
       "1                    75.0                     90                 150.0   \n",
       "2                    30.0                     30                  99.0   \n",
       "3                    30.0                     30                 149.0   \n",
       "4                   410.0                    410                1788.0   \n",
       "\n",
       "   actual_amount_paid_sum  is_auto_renew_mean  is_cancel_mean  date  num_25  \\\n",
       "0                     180                 0.0           0.000     6       0   \n",
       "1                     300                 0.0           0.000    20     239   \n",
       "2                     792                 1.0           0.125    15       9   \n",
       "3                     149                 1.0           1.000     4       6   \n",
       "4                    1788                 0.0           0.000    31      78   \n",
       "\n",
       "   num_50  num_75  num_985  num_100  num_unq  total_secs  \n",
       "0       4       2        0       26       30    6986.509  \n",
       "1      57      32       22      205      432   67810.467  \n",
       "2       7       4        4      962      548  239882.241  \n",
       "3       1       1        4       37       48   10110.665  \n",
       "4      20      30       16     1023      758  290831.795  "
      ]
     },
     "execution_count": 166,
     "metadata": {},
     "output_type": "execute_result"
    }
   ],
   "source": [
    "user_main.head()"
   ]
  },
  {
   "cell_type": "code",
   "execution_count": 167,
   "id": "6401c067-6ced-4787-84e7-922194262f35",
   "metadata": {},
   "outputs": [],
   "source": [
    "user_main_members = pd.merge(user_main,members,on='msno',how='inner')"
   ]
  },
  {
   "cell_type": "code",
   "execution_count": 168,
   "id": "218e05dc-d948-4a46-9814-1df0b713558f",
   "metadata": {},
   "outputs": [
    {
     "data": {
      "text/html": [
       "<div>\n",
       "<style scoped>\n",
       "    .dataframe tbody tr th:only-of-type {\n",
       "        vertical-align: middle;\n",
       "    }\n",
       "\n",
       "    .dataframe tbody tr th {\n",
       "        vertical-align: top;\n",
       "    }\n",
       "\n",
       "    .dataframe thead th {\n",
       "        text-align: right;\n",
       "    }\n",
       "</style>\n",
       "<table border=\"1\" class=\"dataframe\">\n",
       "  <thead>\n",
       "    <tr style=\"text-align: right;\">\n",
       "      <th></th>\n",
       "      <th>msno</th>\n",
       "      <th>is_churn</th>\n",
       "      <th>payment_plan_days_mean</th>\n",
       "      <th>payment_plan_days_max</th>\n",
       "      <th>plan_list_price_mean</th>\n",
       "      <th>actual_amount_paid_sum</th>\n",
       "      <th>is_auto_renew_mean</th>\n",
       "      <th>is_cancel_mean</th>\n",
       "      <th>date</th>\n",
       "      <th>num_25</th>\n",
       "      <th>...</th>\n",
       "      <th>num_75</th>\n",
       "      <th>num_985</th>\n",
       "      <th>num_100</th>\n",
       "      <th>num_unq</th>\n",
       "      <th>total_secs</th>\n",
       "      <th>city</th>\n",
       "      <th>bd</th>\n",
       "      <th>gender</th>\n",
       "      <th>registered_via</th>\n",
       "      <th>registration_init_time</th>\n",
       "    </tr>\n",
       "  </thead>\n",
       "  <tbody>\n",
       "    <tr>\n",
       "      <th>0</th>\n",
       "      <td>f/NmvEzHfhINFEYZTR05prUdr+E+3+oewvweYz9cCQE=</td>\n",
       "      <td>1</td>\n",
       "      <td>30.0</td>\n",
       "      <td>30</td>\n",
       "      <td>180.0</td>\n",
       "      <td>180</td>\n",
       "      <td>0.0</td>\n",
       "      <td>0.000</td>\n",
       "      <td>6</td>\n",
       "      <td>0</td>\n",
       "      <td>...</td>\n",
       "      <td>2</td>\n",
       "      <td>0</td>\n",
       "      <td>26</td>\n",
       "      <td>30</td>\n",
       "      <td>6986.509</td>\n",
       "      <td>13</td>\n",
       "      <td>20</td>\n",
       "      <td>male</td>\n",
       "      <td>3</td>\n",
       "      <td>20131223</td>\n",
       "    </tr>\n",
       "    <tr>\n",
       "      <th>1</th>\n",
       "      <td>zLo9f73nGGT1p21ltZC3ChiRnAVvgibMyazbCxvWPcg=</td>\n",
       "      <td>1</td>\n",
       "      <td>75.0</td>\n",
       "      <td>90</td>\n",
       "      <td>150.0</td>\n",
       "      <td>300</td>\n",
       "      <td>0.0</td>\n",
       "      <td>0.000</td>\n",
       "      <td>20</td>\n",
       "      <td>239</td>\n",
       "      <td>...</td>\n",
       "      <td>32</td>\n",
       "      <td>22</td>\n",
       "      <td>205</td>\n",
       "      <td>432</td>\n",
       "      <td>67810.467</td>\n",
       "      <td>13</td>\n",
       "      <td>18</td>\n",
       "      <td>male</td>\n",
       "      <td>3</td>\n",
       "      <td>20131227</td>\n",
       "    </tr>\n",
       "    <tr>\n",
       "      <th>2</th>\n",
       "      <td>K6fja4+jmoZ5xG6BypqX80Uw/XKpMgrEMdG2edFOxnA=</td>\n",
       "      <td>1</td>\n",
       "      <td>30.0</td>\n",
       "      <td>30</td>\n",
       "      <td>99.0</td>\n",
       "      <td>792</td>\n",
       "      <td>1.0</td>\n",
       "      <td>0.125</td>\n",
       "      <td>15</td>\n",
       "      <td>9</td>\n",
       "      <td>...</td>\n",
       "      <td>4</td>\n",
       "      <td>4</td>\n",
       "      <td>962</td>\n",
       "      <td>548</td>\n",
       "      <td>239882.241</td>\n",
       "      <td>13</td>\n",
       "      <td>35</td>\n",
       "      <td>female</td>\n",
       "      <td>7</td>\n",
       "      <td>20140125</td>\n",
       "    </tr>\n",
       "    <tr>\n",
       "      <th>3</th>\n",
       "      <td>ibIHVYBqxGwrSExE63/omeDD99M5vYB3CN2HzkEY+eM=</td>\n",
       "      <td>1</td>\n",
       "      <td>30.0</td>\n",
       "      <td>30</td>\n",
       "      <td>149.0</td>\n",
       "      <td>149</td>\n",
       "      <td>1.0</td>\n",
       "      <td>1.000</td>\n",
       "      <td>4</td>\n",
       "      <td>6</td>\n",
       "      <td>...</td>\n",
       "      <td>1</td>\n",
       "      <td>4</td>\n",
       "      <td>37</td>\n",
       "      <td>48</td>\n",
       "      <td>10110.665</td>\n",
       "      <td>22</td>\n",
       "      <td>0</td>\n",
       "      <td>NaN</td>\n",
       "      <td>3</td>\n",
       "      <td>20140126</td>\n",
       "    </tr>\n",
       "    <tr>\n",
       "      <th>4</th>\n",
       "      <td>moRTKhKIDvb+C8ZHOgmaF4dXMLk0jOn65d7a8tQ2Eds=</td>\n",
       "      <td>1</td>\n",
       "      <td>410.0</td>\n",
       "      <td>410</td>\n",
       "      <td>1788.0</td>\n",
       "      <td>1788</td>\n",
       "      <td>0.0</td>\n",
       "      <td>0.000</td>\n",
       "      <td>31</td>\n",
       "      <td>78</td>\n",
       "      <td>...</td>\n",
       "      <td>30</td>\n",
       "      <td>16</td>\n",
       "      <td>1023</td>\n",
       "      <td>758</td>\n",
       "      <td>290831.795</td>\n",
       "      <td>9</td>\n",
       "      <td>28</td>\n",
       "      <td>female</td>\n",
       "      <td>3</td>\n",
       "      <td>20140202</td>\n",
       "    </tr>\n",
       "  </tbody>\n",
       "</table>\n",
       "<p>5 rows × 21 columns</p>\n",
       "</div>"
      ],
      "text/plain": [
       "                                           msno  is_churn  \\\n",
       "0  f/NmvEzHfhINFEYZTR05prUdr+E+3+oewvweYz9cCQE=         1   \n",
       "1  zLo9f73nGGT1p21ltZC3ChiRnAVvgibMyazbCxvWPcg=         1   \n",
       "2  K6fja4+jmoZ5xG6BypqX80Uw/XKpMgrEMdG2edFOxnA=         1   \n",
       "3  ibIHVYBqxGwrSExE63/omeDD99M5vYB3CN2HzkEY+eM=         1   \n",
       "4  moRTKhKIDvb+C8ZHOgmaF4dXMLk0jOn65d7a8tQ2Eds=         1   \n",
       "\n",
       "   payment_plan_days_mean  payment_plan_days_max  plan_list_price_mean  \\\n",
       "0                    30.0                     30                 180.0   \n",
       "1                    75.0                     90                 150.0   \n",
       "2                    30.0                     30                  99.0   \n",
       "3                    30.0                     30                 149.0   \n",
       "4                   410.0                    410                1788.0   \n",
       "\n",
       "   actual_amount_paid_sum  is_auto_renew_mean  is_cancel_mean  date  num_25  \\\n",
       "0                     180                 0.0           0.000     6       0   \n",
       "1                     300                 0.0           0.000    20     239   \n",
       "2                     792                 1.0           0.125    15       9   \n",
       "3                     149                 1.0           1.000     4       6   \n",
       "4                    1788                 0.0           0.000    31      78   \n",
       "\n",
       "   ...  num_75  num_985  num_100  num_unq  total_secs  city  bd  gender  \\\n",
       "0  ...       2        0       26       30    6986.509    13  20    male   \n",
       "1  ...      32       22      205      432   67810.467    13  18    male   \n",
       "2  ...       4        4      962      548  239882.241    13  35  female   \n",
       "3  ...       1        4       37       48   10110.665    22   0     NaN   \n",
       "4  ...      30       16     1023      758  290831.795     9  28  female   \n",
       "\n",
       "  registered_via  registration_init_time  \n",
       "0              3                20131223  \n",
       "1              3                20131227  \n",
       "2              7                20140125  \n",
       "3              3                20140126  \n",
       "4              3                20140202  \n",
       "\n",
       "[5 rows x 21 columns]"
      ]
     },
     "execution_count": 168,
     "metadata": {},
     "output_type": "execute_result"
    }
   ],
   "source": [
    "user_main_members.head()"
   ]
  },
  {
   "cell_type": "code",
   "execution_count": 169,
   "id": "0d854831-e34a-438b-ae02-752a00562b59",
   "metadata": {},
   "outputs": [
    {
     "name": "stdout",
     "output_type": "stream",
     "text": [
      "DataFrame: (725722, 21)\n"
     ]
    }
   ],
   "source": [
    "df_shape(user_main_members)"
   ]
  },
  {
   "cell_type": "code",
   "execution_count": 170,
   "id": "017fa561-ae6f-49e5-b3f9-caca0c54541b",
   "metadata": {},
   "outputs": [
    {
     "data": {
      "text/plain": [
       "725722"
      ]
     },
     "execution_count": 170,
     "metadata": {},
     "output_type": "execute_result"
    }
   ],
   "source": [
    "user_main_members['msno'].nunique()"
   ]
  },
  {
   "cell_type": "code",
   "execution_count": 174,
   "id": "40ddc3a2-39c1-4d4a-b53e-756fcc2674f3",
   "metadata": {},
   "outputs": [
    {
     "data": {
      "text/plain": [
       "Index(['msno', 'is_churn', 'payment_plan_days_mean', 'payment_plan_days_max',\n",
       "       'plan_list_price_mean', 'actual_amount_paid_sum', 'is_auto_renew_mean',\n",
       "       'is_cancel_mean', 'date', 'num_25', 'num_50', 'num_75', 'num_985',\n",
       "       'num_100', 'num_unq', 'total_secs', 'city', 'bd', 'gender',\n",
       "       'registered_via', 'registration_init_time'],\n",
       "      dtype='object')"
      ]
     },
     "execution_count": 174,
     "metadata": {},
     "output_type": "execute_result"
    }
   ],
   "source": [
    "user_main_members.columns"
   ]
  },
  {
   "cell_type": "code",
   "execution_count": 171,
   "id": "7104cd16-f099-45bc-836e-928547b1088b",
   "metadata": {},
   "outputs": [
    {
     "data": {
      "image/png": "[encoded data removed]",
      "text/plain": [
       "<Figure size 640x480 with 1 Axes>"
      ]
     },
     "metadata": {},
     "output_type": "display_data"
    }
   ],
   "source": [
    "user_main_members['is_churn'].value_counts().plot(kind='bar', color=['skyblue', 'salmon'])\n",
    "plt.title('Churn vs Non-Churn Count')\n",
    "plt.xlabel('Churn')\n",
    "plt.ylabel('Number of Users')\n",
    "plt.xticks([0,1], ['Not Churn', 'Churn'], rotation=0)\n",
    "plt.show()"
   ]
  },
  {
   "cell_type": "code",
   "execution_count": 177,
   "id": "64110883-f2e5-4014-8b9f-7edde9b7c707",
   "metadata": {},
   "outputs": [
    {
     "data": {
      "image/png": "[encoded data removed]",
      "text/plain": [
       "<Figure size 640x480 with 1 Axes>"
      ]
     },
     "metadata": {},
     "output_type": "display_data"
    }
   ],
   "source": [
    "plt.hist(user_main_members['is_cancel_mean'], bins=20, color='salmon', edgecolor='black')\n",
    "plt.title('Distribution of Cancellation Ratio per User')\n",
    "plt.xlabel('Cancellation Ratio')\n",
    "plt.ylabel('Number of Users')\n",
    "plt.show()"
   ]
  },
  {
   "cell_type": "code",
   "execution_count": 186,
   "id": "d994f108-567a-41ce-9994-dc8e8873f480",
   "metadata": {},
   "outputs": [
    {
     "data": {
      "image/png": "[encoded data removed]",
      "text/plain": [
       "<Figure size 640x480 with 1 Axes>"
      ]
     },
     "metadata": {},
     "output_type": "display_data"
    }
   ],
   "source": [
    "plt.hist(user_main_members['payment_plan_days_mean'], bins=20, color='skyblue', edgecolor='black')\n",
    "plt.title('Distribution of Average Payment Plan Days')\n",
    "plt.xlabel('Mean Payment Plan Days')\n",
    "plt.ylabel('Number of Users')\n",
    "plt.show()"
   ]
  },
  {
   "cell_type": "code",
   "execution_count": 187,
   "id": "bf9f9ddd-a268-494f-979f-5a285183a7f8",
   "metadata": {},
   "outputs": [
    {
     "data": {
      "image/png": "[encoded data removed]",
      "text/plain": [
       "<Figure size 640x480 with 1 Axes>"
      ]
     },
     "metadata": {},
     "output_type": "display_data"
    }
   ],
   "source": [
    "plt.hist(user_main_members['payment_plan_days_max'], bins=20, color='salmon', edgecolor='black')\n",
    "plt.title('Distribution of Max Payment Plan Days')\n",
    "plt.xlabel('Max Payment Plan Days')\n",
    "plt.ylabel('Number of Users')\n",
    "plt.show()"
   ]
  },
  {
   "cell_type": "code",
   "execution_count": 190,
   "id": "5804450a-64b0-409f-9aac-cdec3ae6cc3c",
   "metadata": {},
   "outputs": [
    {
     "data": {
      "image/png": "[encoded data removed]",
      "text/plain": [
       "<Figure size 640x480 with 1 Axes>"
      ]
     },
     "metadata": {},
     "output_type": "display_data"
    }
   ],
   "source": [
    "plt.hist(user_main_members['is_auto_renew_mean'], bins=20, color='salmon', edgecolor='black')\n",
    "plt.title('Auto-Renewal Status of Users')\n",
    "plt.xlabel('Ratio of auto renewal')\n",
    "plt.ylabel('Number of Users')\n",
    "plt.show()"
   ]
  },
  {
   "cell_type": "code",
   "execution_count": 191,
   "id": "871d1eae-23cf-4e3f-91a9-2f099256f46f",
   "metadata": {},
   "outputs": [
    {
     "data": {
      "image/png": "[encoded data removed]",
      "text/plain": [
       "<Figure size 1000x500 with 1 Axes>"
      ]
     },
     "metadata": {},
     "output_type": "display_data"
    }
   ],
   "source": [
    "plt.figure(figsize=(10,5))\n",
    "sns.histplot(user_main_members['plan_list_price_mean'], bins=50, color='skyblue', label='Listed Price', kde=True)\n",
    "plt.legend()\n",
    "plt.title(\"Distribution of Plan Price\")\n",
    "plt.xlabel(\"Price (NTD)\")\n",
    "plt.ylabel(\"Count\")\n",
    "plt.show()"
   ]
  },
  {
   "cell_type": "code",
   "execution_count": 192,
   "id": "5d63ee8f-620c-4fc9-aea6-08ea15dc0aba",
   "metadata": {},
   "outputs": [
    {
     "data": {
      "image/png": "[encoded data removed]",
      "text/plain": [
       "<Figure size 1000x500 with 1 Axes>"
      ]
     },
     "metadata": {},
     "output_type": "display_data"
    }
   ],
   "source": [
    "plt.figure(figsize=(10,5))\n",
    "sns.histplot(user_main_members['actual_amount_paid_sum'], bins=50, color='salmon', kde=True)\n",
    "plt.title(\"Distribution of Total Actual Amount Paid per User\")\n",
    "plt.xlabel(\"Total Amount Paid\")\n",
    "plt.ylabel(\"Number of Users\")\n",
    "plt.show()"
   ]
  },
  {
   "cell_type": "code",
   "execution_count": 193,
   "id": "8df87efd-8be1-48b8-a309-99fa69e2cd1c",
   "metadata": {},
   "outputs": [
    {
     "data": {
      "text/plain": [
       "array([13, 22,  9,  1, 14,  4, 15, 18, 12,  3, 21,  6,  5,  8,  7, 17, 11,\n",
       "       10, 16, 20, 19])"
      ]
     },
     "execution_count": 193,
     "metadata": {},
     "output_type": "execute_result"
    }
   ],
   "source": [
    "user_main_members['city'].unique()"
   ]
  },
  {
   "cell_type": "code",
   "execution_count": 194,
   "id": "adea8b0f-c521-47ff-97cc-c80d141049b0",
   "metadata": {},
   "outputs": [
    {
     "data": {
      "image/png": "[encoded data removed]",
      "text/plain": [
       "<Figure size 600x400 with 1 Axes>"
      ]
     },
     "metadata": {},
     "output_type": "display_data"
    }
   ],
   "source": [
    "plt.figure(figsize=(6,4))\n",
    "sns.boxplot(data=user_main_members, y='bd', color='skyblue')\n",
    "plt.title(\"Boxplot of Age (bd)\")\n",
    "plt.ylabel(\"Age\")\n",
    "plt.show()"
   ]
  },
  {
   "cell_type": "code",
   "execution_count": 195,
   "id": "6f994761-2e42-425a-9e9a-a4027ed67e0f",
   "metadata": {},
   "outputs": [
    {
     "data": {
      "text/plain": [
       "np.float64(14.205281085594759)"
      ]
     },
     "execution_count": 195,
     "metadata": {},
     "output_type": "execute_result"
    }
   ],
   "source": [
    "user_main_members['bd'].mean()"
   ]
  },
  {
   "cell_type": "code",
   "execution_count": 196,
   "id": "26903cf2-8461-4c00-94e0-a3b4873e262c",
   "metadata": {},
   "outputs": [
    {
     "data": {
      "image/png": "[encoded data removed]",
      "text/plain": [
       "<Figure size 800x500 with 1 Axes>"
      ]
     },
     "metadata": {},
     "output_type": "display_data"
    }
   ],
   "source": [
    "plt.figure(figsize=(8,5))\n",
    "sns.countplot(\n",
    "    data=user_main_members,\n",
    "    x='city',\n",
    "    order=user_main_members['city'].value_counts().index,\n",
    "    hue='city',        \n",
    "    palette=\"viridis\",\n",
    "    legend=False                   \n",
    ")\n",
    "\n",
    "plt.title(\"Customers city\", fontsize=14)\n",
    "plt.xlabel(\"City\")\n",
    "plt.ylabel(\"Count\")\n",
    "plt.xticks(rotation=45)\n",
    "plt.show()"
   ]
  },
  {
   "cell_type": "code",
   "execution_count": 197,
   "id": "c8f2d4c4-549e-4bf1-9924-bd788c2fc05e",
   "metadata": {},
   "outputs": [
    {
     "data": {
      "text/plain": [
       "array(['male', 'female', nan], dtype=object)"
      ]
     },
     "execution_count": 197,
     "metadata": {},
     "output_type": "execute_result"
    }
   ],
   "source": [
    "user_main_members['gender'].unique()"
   ]
  },
  {
   "cell_type": "code",
   "execution_count": 198,
   "id": "9a842ec0-4aec-4769-b1a9-88f3b50af315",
   "metadata": {},
   "outputs": [
    {
     "data": {
      "image/png": "[encoded data removed]",
      "text/plain": [
       "<Figure size 800x500 with 1 Axes>"
      ]
     },
     "metadata": {},
     "output_type": "display_data"
    }
   ],
   "source": [
    "plt.figure(figsize=(8,5))\n",
    "sns.countplot(\n",
    "    data=user_main_members,\n",
    "    x='gender',\n",
    "    order=user_main_members['gender'].value_counts().index,\n",
    "    hue='gender',        \n",
    "    palette=\"viridis\",\n",
    "    legend=False                   \n",
    ")\n",
    "\n",
    "plt.title(\"Genders present in database\", fontsize=14)\n",
    "plt.xlabel(\"Gender\")\n",
    "plt.ylabel(\"Count\")\n",
    "plt.xticks(rotation=45)\n",
    "plt.show()"
   ]
  },
  {
   "cell_type": "code",
   "execution_count": 200,
   "id": "4497929e-2701-4213-98ae-2152b083088f",
   "metadata": {},
   "outputs": [
    {
     "data": {
      "text/plain": [
       "gender\n",
       "NaN       381807\n",
       "male      179846\n",
       "female    164069\n",
       "Name: count, dtype: int64"
      ]
     },
     "execution_count": 200,
     "metadata": {},
     "output_type": "execute_result"
    }
   ],
   "source": [
    "user_main_members['gender'].value_counts(dropna=False)"
   ]
  },
  {
   "cell_type": "code",
   "execution_count": 201,
   "id": "03ad026c-a7d3-4fdc-ab59-aebb64ae8128",
   "metadata": {},
   "outputs": [
    {
     "data": {
      "text/plain": [
       "msno                           0\n",
       "is_churn                       0\n",
       "payment_plan_days_mean         0\n",
       "payment_plan_days_max          0\n",
       "plan_list_price_mean           0\n",
       "actual_amount_paid_sum         0\n",
       "is_auto_renew_mean             0\n",
       "is_cancel_mean                 0\n",
       "date                           0\n",
       "num_25                         0\n",
       "num_50                         0\n",
       "num_75                         0\n",
       "num_985                        0\n",
       "num_100                        0\n",
       "num_unq                        0\n",
       "total_secs                     0\n",
       "city                           0\n",
       "bd                             0\n",
       "gender                    381807\n",
       "registered_via                 0\n",
       "registration_init_time         0\n",
       "dtype: int64"
      ]
     },
     "execution_count": 201,
     "metadata": {},
     "output_type": "execute_result"
    }
   ],
   "source": [
    "user_main_members.isnull().sum()"
   ]
  },
  {
   "cell_type": "code",
   "execution_count": 202,
   "id": "498ea9a0-a893-484c-8fbe-df12b8d4783b",
   "metadata": {},
   "outputs": [],
   "source": [
    "def convert_to_datetime(df,column_name='transaction_date'):\n",
    "    df[column_name] = pd.to_datetime(df[column_name],format='%Y%m%d')\n",
    "    return df"
   ]
  },
  {
   "cell_type": "code",
   "execution_count": 204,
   "id": "9f94471c-677e-4cb4-a9dd-c29aaecd219d",
   "metadata": {},
   "outputs": [
    {
     "data": {
      "text/html": [
       "<div>\n",
       "<style scoped>\n",
       "    .dataframe tbody tr th:only-of-type {\n",
       "        vertical-align: middle;\n",
       "    }\n",
       "\n",
       "    .dataframe tbody tr th {\n",
       "        vertical-align: top;\n",
       "    }\n",
       "\n",
       "    .dataframe thead th {\n",
       "        text-align: right;\n",
       "    }\n",
       "</style>\n",
       "<table border=\"1\" class=\"dataframe\">\n",
       "  <thead>\n",
       "    <tr style=\"text-align: right;\">\n",
       "      <th></th>\n",
       "      <th>msno</th>\n",
       "      <th>is_churn</th>\n",
       "      <th>payment_plan_days_mean</th>\n",
       "      <th>payment_plan_days_max</th>\n",
       "      <th>plan_list_price_mean</th>\n",
       "      <th>actual_amount_paid_sum</th>\n",
       "      <th>is_auto_renew_mean</th>\n",
       "      <th>is_cancel_mean</th>\n",
       "      <th>date</th>\n",
       "      <th>num_25</th>\n",
       "      <th>...</th>\n",
       "      <th>num_75</th>\n",
       "      <th>num_985</th>\n",
       "      <th>num_100</th>\n",
       "      <th>num_unq</th>\n",
       "      <th>total_secs</th>\n",
       "      <th>city</th>\n",
       "      <th>bd</th>\n",
       "      <th>gender</th>\n",
       "      <th>registered_via</th>\n",
       "      <th>registration_init_time</th>\n",
       "    </tr>\n",
       "  </thead>\n",
       "  <tbody>\n",
       "    <tr>\n",
       "      <th>0</th>\n",
       "      <td>f/NmvEzHfhINFEYZTR05prUdr+E+3+oewvweYz9cCQE=</td>\n",
       "      <td>1</td>\n",
       "      <td>30.0</td>\n",
       "      <td>30</td>\n",
       "      <td>180.0</td>\n",
       "      <td>180</td>\n",
       "      <td>0.0</td>\n",
       "      <td>0.000</td>\n",
       "      <td>6</td>\n",
       "      <td>0</td>\n",
       "      <td>...</td>\n",
       "      <td>2</td>\n",
       "      <td>0</td>\n",
       "      <td>26</td>\n",
       "      <td>30</td>\n",
       "      <td>6986.509</td>\n",
       "      <td>13</td>\n",
       "      <td>20</td>\n",
       "      <td>male</td>\n",
       "      <td>3</td>\n",
       "      <td>2013-12-23</td>\n",
       "    </tr>\n",
       "    <tr>\n",
       "      <th>1</th>\n",
       "      <td>zLo9f73nGGT1p21ltZC3ChiRnAVvgibMyazbCxvWPcg=</td>\n",
       "      <td>1</td>\n",
       "      <td>75.0</td>\n",
       "      <td>90</td>\n",
       "      <td>150.0</td>\n",
       "      <td>300</td>\n",
       "      <td>0.0</td>\n",
       "      <td>0.000</td>\n",
       "      <td>20</td>\n",
       "      <td>239</td>\n",
       "      <td>...</td>\n",
       "      <td>32</td>\n",
       "      <td>22</td>\n",
       "      <td>205</td>\n",
       "      <td>432</td>\n",
       "      <td>67810.467</td>\n",
       "      <td>13</td>\n",
       "      <td>18</td>\n",
       "      <td>male</td>\n",
       "      <td>3</td>\n",
       "      <td>2013-12-27</td>\n",
       "    </tr>\n",
       "    <tr>\n",
       "      <th>2</th>\n",
       "      <td>K6fja4+jmoZ5xG6BypqX80Uw/XKpMgrEMdG2edFOxnA=</td>\n",
       "      <td>1</td>\n",
       "      <td>30.0</td>\n",
       "      <td>30</td>\n",
       "      <td>99.0</td>\n",
       "      <td>792</td>\n",
       "      <td>1.0</td>\n",
       "      <td>0.125</td>\n",
       "      <td>15</td>\n",
       "      <td>9</td>\n",
       "      <td>...</td>\n",
       "      <td>4</td>\n",
       "      <td>4</td>\n",
       "      <td>962</td>\n",
       "      <td>548</td>\n",
       "      <td>239882.241</td>\n",
       "      <td>13</td>\n",
       "      <td>35</td>\n",
       "      <td>female</td>\n",
       "      <td>7</td>\n",
       "      <td>2014-01-25</td>\n",
       "    </tr>\n",
       "    <tr>\n",
       "      <th>3</th>\n",
       "      <td>ibIHVYBqxGwrSExE63/omeDD99M5vYB3CN2HzkEY+eM=</td>\n",
       "      <td>1</td>\n",
       "      <td>30.0</td>\n",
       "      <td>30</td>\n",
       "      <td>149.0</td>\n",
       "      <td>149</td>\n",
       "      <td>1.0</td>\n",
       "      <td>1.000</td>\n",
       "      <td>4</td>\n",
       "      <td>6</td>\n",
       "      <td>...</td>\n",
       "      <td>1</td>\n",
       "      <td>4</td>\n",
       "      <td>37</td>\n",
       "      <td>48</td>\n",
       "      <td>10110.665</td>\n",
       "      <td>22</td>\n",
       "      <td>0</td>\n",
       "      <td>NaN</td>\n",
       "      <td>3</td>\n",
       "      <td>2014-01-26</td>\n",
       "    </tr>\n",
       "    <tr>\n",
       "      <th>4</th>\n",
       "      <td>moRTKhKIDvb+C8ZHOgmaF4dXMLk0jOn65d7a8tQ2Eds=</td>\n",
       "      <td>1</td>\n",
       "      <td>410.0</td>\n",
       "      <td>410</td>\n",
       "      <td>1788.0</td>\n",
       "      <td>1788</td>\n",
       "      <td>0.0</td>\n",
       "      <td>0.000</td>\n",
       "      <td>31</td>\n",
       "      <td>78</td>\n",
       "      <td>...</td>\n",
       "      <td>30</td>\n",
       "      <td>16</td>\n",
       "      <td>1023</td>\n",
       "      <td>758</td>\n",
       "      <td>290831.795</td>\n",
       "      <td>9</td>\n",
       "      <td>28</td>\n",
       "      <td>female</td>\n",
       "      <td>3</td>\n",
       "      <td>2014-02-02</td>\n",
       "    </tr>\n",
       "    <tr>\n",
       "      <th>...</th>\n",
       "      <td>...</td>\n",
       "      <td>...</td>\n",
       "      <td>...</td>\n",
       "      <td>...</td>\n",
       "      <td>...</td>\n",
       "      <td>...</td>\n",
       "      <td>...</td>\n",
       "      <td>...</td>\n",
       "      <td>...</td>\n",
       "      <td>...</td>\n",
       "      <td>...</td>\n",
       "      <td>...</td>\n",
       "      <td>...</td>\n",
       "      <td>...</td>\n",
       "      <td>...</td>\n",
       "      <td>...</td>\n",
       "      <td>...</td>\n",
       "      <td>...</td>\n",
       "      <td>...</td>\n",
       "      <td>...</td>\n",
       "      <td>...</td>\n",
       "    </tr>\n",
       "    <tr>\n",
       "      <th>725717</th>\n",
       "      <td>eZ3y0lsY2SVZc2h8T3zB454TuBz6oVDMlFsEpEPQclQ=</td>\n",
       "      <td>0</td>\n",
       "      <td>30.0</td>\n",
       "      <td>30</td>\n",
       "      <td>99.0</td>\n",
       "      <td>99</td>\n",
       "      <td>1.0</td>\n",
       "      <td>0.000</td>\n",
       "      <td>31</td>\n",
       "      <td>171</td>\n",
       "      <td>...</td>\n",
       "      <td>13</td>\n",
       "      <td>45</td>\n",
       "      <td>901</td>\n",
       "      <td>572</td>\n",
       "      <td>238326.126</td>\n",
       "      <td>18</td>\n",
       "      <td>0</td>\n",
       "      <td>female</td>\n",
       "      <td>7</td>\n",
       "      <td>2011-08-30</td>\n",
       "    </tr>\n",
       "    <tr>\n",
       "      <th>725718</th>\n",
       "      <td>/QlhSIWEZelYnwttYJSQL50EJJ2yRV+ThQIVQLvctp8=</td>\n",
       "      <td>0</td>\n",
       "      <td>30.0</td>\n",
       "      <td>30</td>\n",
       "      <td>149.0</td>\n",
       "      <td>149</td>\n",
       "      <td>1.0</td>\n",
       "      <td>0.000</td>\n",
       "      <td>24</td>\n",
       "      <td>117</td>\n",
       "      <td>...</td>\n",
       "      <td>30</td>\n",
       "      <td>25</td>\n",
       "      <td>461</td>\n",
       "      <td>429</td>\n",
       "      <td>125205.826</td>\n",
       "      <td>8</td>\n",
       "      <td>25</td>\n",
       "      <td>female</td>\n",
       "      <td>7</td>\n",
       "      <td>2011-08-30</td>\n",
       "    </tr>\n",
       "    <tr>\n",
       "      <th>725719</th>\n",
       "      <td>OHnZbu+EVaP+vN7Z+OfT5OMcp90MWFZonmM0o3pb8FY=</td>\n",
       "      <td>0</td>\n",
       "      <td>30.0</td>\n",
       "      <td>30</td>\n",
       "      <td>149.0</td>\n",
       "      <td>149</td>\n",
       "      <td>1.0</td>\n",
       "      <td>0.000</td>\n",
       "      <td>24</td>\n",
       "      <td>48</td>\n",
       "      <td>...</td>\n",
       "      <td>4</td>\n",
       "      <td>9</td>\n",
       "      <td>318</td>\n",
       "      <td>291</td>\n",
       "      <td>77031.435</td>\n",
       "      <td>13</td>\n",
       "      <td>28</td>\n",
       "      <td>male</td>\n",
       "      <td>7</td>\n",
       "      <td>2011-08-31</td>\n",
       "    </tr>\n",
       "    <tr>\n",
       "      <th>725720</th>\n",
       "      <td>S92bDK//uI6hk3u1vuApro0qJBQOToBozZ7lL1yTC+w=</td>\n",
       "      <td>0</td>\n",
       "      <td>30.0</td>\n",
       "      <td>30</td>\n",
       "      <td>99.0</td>\n",
       "      <td>99</td>\n",
       "      <td>1.0</td>\n",
       "      <td>0.000</td>\n",
       "      <td>5</td>\n",
       "      <td>43</td>\n",
       "      <td>...</td>\n",
       "      <td>8</td>\n",
       "      <td>7</td>\n",
       "      <td>22</td>\n",
       "      <td>54</td>\n",
       "      <td>8697.066</td>\n",
       "      <td>1</td>\n",
       "      <td>0</td>\n",
       "      <td>NaN</td>\n",
       "      <td>7</td>\n",
       "      <td>2011-09-03</td>\n",
       "    </tr>\n",
       "    <tr>\n",
       "      <th>725721</th>\n",
       "      <td>iZE41tbAQ65rJq60olkJT4BJzuUAYgQdfbEemXe/TTk=</td>\n",
       "      <td>0</td>\n",
       "      <td>30.0</td>\n",
       "      <td>30</td>\n",
       "      <td>149.0</td>\n",
       "      <td>298</td>\n",
       "      <td>1.0</td>\n",
       "      <td>0.000</td>\n",
       "      <td>23</td>\n",
       "      <td>33</td>\n",
       "      <td>...</td>\n",
       "      <td>6</td>\n",
       "      <td>10</td>\n",
       "      <td>336</td>\n",
       "      <td>309</td>\n",
       "      <td>79499.246</td>\n",
       "      <td>5</td>\n",
       "      <td>25</td>\n",
       "      <td>female</td>\n",
       "      <td>9</td>\n",
       "      <td>2011-09-05</td>\n",
       "    </tr>\n",
       "  </tbody>\n",
       "</table>\n",
       "<p>725722 rows × 21 columns</p>\n",
       "</div>"
      ],
      "text/plain": [
       "                                                msno  is_churn  \\\n",
       "0       f/NmvEzHfhINFEYZTR05prUdr+E+3+oewvweYz9cCQE=         1   \n",
       "1       zLo9f73nGGT1p21ltZC3ChiRnAVvgibMyazbCxvWPcg=         1   \n",
       "2       K6fja4+jmoZ5xG6BypqX80Uw/XKpMgrEMdG2edFOxnA=         1   \n",
       "3       ibIHVYBqxGwrSExE63/omeDD99M5vYB3CN2HzkEY+eM=         1   \n",
       "4       moRTKhKIDvb+C8ZHOgmaF4dXMLk0jOn65d7a8tQ2Eds=         1   \n",
       "...                                              ...       ...   \n",
       "725717  eZ3y0lsY2SVZc2h8T3zB454TuBz6oVDMlFsEpEPQclQ=         0   \n",
       "725718  /QlhSIWEZelYnwttYJSQL50EJJ2yRV+ThQIVQLvctp8=         0   \n",
       "725719  OHnZbu+EVaP+vN7Z+OfT5OMcp90MWFZonmM0o3pb8FY=         0   \n",
       "725720  S92bDK//uI6hk3u1vuApro0qJBQOToBozZ7lL1yTC+w=         0   \n",
       "725721  iZE41tbAQ65rJq60olkJT4BJzuUAYgQdfbEemXe/TTk=         0   \n",
       "\n",
       "        payment_plan_days_mean  payment_plan_days_max  plan_list_price_mean  \\\n",
       "0                         30.0                     30                 180.0   \n",
       "1                         75.0                     90                 150.0   \n",
       "2                         30.0                     30                  99.0   \n",
       "3                         30.0                     30                 149.0   \n",
       "4                        410.0                    410                1788.0   \n",
       "...                        ...                    ...                   ...   \n",
       "725717                    30.0                     30                  99.0   \n",
       "725718                    30.0                     30                 149.0   \n",
       "725719                    30.0                     30                 149.0   \n",
       "725720                    30.0                     30                  99.0   \n",
       "725721                    30.0                     30                 149.0   \n",
       "\n",
       "        actual_amount_paid_sum  is_auto_renew_mean  is_cancel_mean  date  \\\n",
       "0                          180                 0.0           0.000     6   \n",
       "1                          300                 0.0           0.000    20   \n",
       "2                          792                 1.0           0.125    15   \n",
       "3                          149                 1.0           1.000     4   \n",
       "4                         1788                 0.0           0.000    31   \n",
       "...                        ...                 ...             ...   ...   \n",
       "725717                      99                 1.0           0.000    31   \n",
       "725718                     149                 1.0           0.000    24   \n",
       "725719                     149                 1.0           0.000    24   \n",
       "725720                      99                 1.0           0.000     5   \n",
       "725721                     298                 1.0           0.000    23   \n",
       "\n",
       "        num_25  ...  num_75  num_985  num_100  num_unq  total_secs  city  bd  \\\n",
       "0            0  ...       2        0       26       30    6986.509    13  20   \n",
       "1          239  ...      32       22      205      432   67810.467    13  18   \n",
       "2            9  ...       4        4      962      548  239882.241    13  35   \n",
       "3            6  ...       1        4       37       48   10110.665    22   0   \n",
       "4           78  ...      30       16     1023      758  290831.795     9  28   \n",
       "...        ...  ...     ...      ...      ...      ...         ...   ...  ..   \n",
       "725717     171  ...      13       45      901      572  238326.126    18   0   \n",
       "725718     117  ...      30       25      461      429  125205.826     8  25   \n",
       "725719      48  ...       4        9      318      291   77031.435    13  28   \n",
       "725720      43  ...       8        7       22       54    8697.066     1   0   \n",
       "725721      33  ...       6       10      336      309   79499.246     5  25   \n",
       "\n",
       "        gender registered_via  registration_init_time  \n",
       "0         male              3              2013-12-23  \n",
       "1         male              3              2013-12-27  \n",
       "2       female              7              2014-01-25  \n",
       "3          NaN              3              2014-01-26  \n",
       "4       female              3              2014-02-02  \n",
       "...        ...            ...                     ...  \n",
       "725717  female              7              2011-08-30  \n",
       "725718  female              7              2011-08-30  \n",
       "725719    male              7              2011-08-31  \n",
       "725720     NaN              7              2011-09-03  \n",
       "725721  female              9              2011-09-05  \n",
       "\n",
       "[725722 rows x 21 columns]"
      ]
     },
     "execution_count": 204,
     "metadata": {},
     "output_type": "execute_result"
    }
   ],
   "source": [
    "convert_to_datetime(user_main_members,column_name='registration_init_time')"
   ]
  },
  {
   "cell_type": "code",
   "execution_count": 205,
   "id": "479624d6-3ff1-4a06-8eb9-f4a2e91ca211",
   "metadata": {},
   "outputs": [
    {
     "data": {
      "text/html": [
       "<div>\n",
       "<style scoped>\n",
       "    .dataframe tbody tr th:only-of-type {\n",
       "        vertical-align: middle;\n",
       "    }\n",
       "\n",
       "    .dataframe tbody tr th {\n",
       "        vertical-align: top;\n",
       "    }\n",
       "\n",
       "    .dataframe thead th {\n",
       "        text-align: right;\n",
       "    }\n",
       "</style>\n",
       "<table border=\"1\" class=\"dataframe\">\n",
       "  <thead>\n",
       "    <tr style=\"text-align: right;\">\n",
       "      <th></th>\n",
       "      <th>msno</th>\n",
       "      <th>is_churn</th>\n",
       "      <th>payment_plan_days_mean</th>\n",
       "      <th>payment_plan_days_max</th>\n",
       "      <th>plan_list_price_mean</th>\n",
       "      <th>actual_amount_paid_sum</th>\n",
       "      <th>is_auto_renew_mean</th>\n",
       "      <th>is_cancel_mean</th>\n",
       "      <th>date</th>\n",
       "      <th>num_25</th>\n",
       "      <th>...</th>\n",
       "      <th>num_75</th>\n",
       "      <th>num_985</th>\n",
       "      <th>num_100</th>\n",
       "      <th>num_unq</th>\n",
       "      <th>total_secs</th>\n",
       "      <th>city</th>\n",
       "      <th>bd</th>\n",
       "      <th>gender</th>\n",
       "      <th>registered_via</th>\n",
       "      <th>registration_init_time</th>\n",
       "    </tr>\n",
       "  </thead>\n",
       "  <tbody>\n",
       "    <tr>\n",
       "      <th>0</th>\n",
       "      <td>f/NmvEzHfhINFEYZTR05prUdr+E+3+oewvweYz9cCQE=</td>\n",
       "      <td>1</td>\n",
       "      <td>30.0</td>\n",
       "      <td>30</td>\n",
       "      <td>180.0</td>\n",
       "      <td>180</td>\n",
       "      <td>0.0</td>\n",
       "      <td>0.000</td>\n",
       "      <td>6</td>\n",
       "      <td>0</td>\n",
       "      <td>...</td>\n",
       "      <td>2</td>\n",
       "      <td>0</td>\n",
       "      <td>26</td>\n",
       "      <td>30</td>\n",
       "      <td>6986.509</td>\n",
       "      <td>13</td>\n",
       "      <td>20</td>\n",
       "      <td>male</td>\n",
       "      <td>3</td>\n",
       "      <td>2013-12-23</td>\n",
       "    </tr>\n",
       "    <tr>\n",
       "      <th>1</th>\n",
       "      <td>zLo9f73nGGT1p21ltZC3ChiRnAVvgibMyazbCxvWPcg=</td>\n",
       "      <td>1</td>\n",
       "      <td>75.0</td>\n",
       "      <td>90</td>\n",
       "      <td>150.0</td>\n",
       "      <td>300</td>\n",
       "      <td>0.0</td>\n",
       "      <td>0.000</td>\n",
       "      <td>20</td>\n",
       "      <td>239</td>\n",
       "      <td>...</td>\n",
       "      <td>32</td>\n",
       "      <td>22</td>\n",
       "      <td>205</td>\n",
       "      <td>432</td>\n",
       "      <td>67810.467</td>\n",
       "      <td>13</td>\n",
       "      <td>18</td>\n",
       "      <td>male</td>\n",
       "      <td>3</td>\n",
       "      <td>2013-12-27</td>\n",
       "    </tr>\n",
       "    <tr>\n",
       "      <th>2</th>\n",
       "      <td>K6fja4+jmoZ5xG6BypqX80Uw/XKpMgrEMdG2edFOxnA=</td>\n",
       "      <td>1</td>\n",
       "      <td>30.0</td>\n",
       "      <td>30</td>\n",
       "      <td>99.0</td>\n",
       "      <td>792</td>\n",
       "      <td>1.0</td>\n",
       "      <td>0.125</td>\n",
       "      <td>15</td>\n",
       "      <td>9</td>\n",
       "      <td>...</td>\n",
       "      <td>4</td>\n",
       "      <td>4</td>\n",
       "      <td>962</td>\n",
       "      <td>548</td>\n",
       "      <td>239882.241</td>\n",
       "      <td>13</td>\n",
       "      <td>35</td>\n",
       "      <td>female</td>\n",
       "      <td>7</td>\n",
       "      <td>2014-01-25</td>\n",
       "    </tr>\n",
       "    <tr>\n",
       "      <th>3</th>\n",
       "      <td>ibIHVYBqxGwrSExE63/omeDD99M5vYB3CN2HzkEY+eM=</td>\n",
       "      <td>1</td>\n",
       "      <td>30.0</td>\n",
       "      <td>30</td>\n",
       "      <td>149.0</td>\n",
       "      <td>149</td>\n",
       "      <td>1.0</td>\n",
       "      <td>1.000</td>\n",
       "      <td>4</td>\n",
       "      <td>6</td>\n",
       "      <td>...</td>\n",
       "      <td>1</td>\n",
       "      <td>4</td>\n",
       "      <td>37</td>\n",
       "      <td>48</td>\n",
       "      <td>10110.665</td>\n",
       "      <td>22</td>\n",
       "      <td>0</td>\n",
       "      <td>NaN</td>\n",
       "      <td>3</td>\n",
       "      <td>2014-01-26</td>\n",
       "    </tr>\n",
       "    <tr>\n",
       "      <th>4</th>\n",
       "      <td>moRTKhKIDvb+C8ZHOgmaF4dXMLk0jOn65d7a8tQ2Eds=</td>\n",
       "      <td>1</td>\n",
       "      <td>410.0</td>\n",
       "      <td>410</td>\n",
       "      <td>1788.0</td>\n",
       "      <td>1788</td>\n",
       "      <td>0.0</td>\n",
       "      <td>0.000</td>\n",
       "      <td>31</td>\n",
       "      <td>78</td>\n",
       "      <td>...</td>\n",
       "      <td>30</td>\n",
       "      <td>16</td>\n",
       "      <td>1023</td>\n",
       "      <td>758</td>\n",
       "      <td>290831.795</td>\n",
       "      <td>9</td>\n",
       "      <td>28</td>\n",
       "      <td>female</td>\n",
       "      <td>3</td>\n",
       "      <td>2014-02-02</td>\n",
       "    </tr>\n",
       "  </tbody>\n",
       "</table>\n",
       "<p>5 rows × 21 columns</p>\n",
       "</div>"
      ],
      "text/plain": [
       "                                           msno  is_churn  \\\n",
       "0  f/NmvEzHfhINFEYZTR05prUdr+E+3+oewvweYz9cCQE=         1   \n",
       "1  zLo9f73nGGT1p21ltZC3ChiRnAVvgibMyazbCxvWPcg=         1   \n",
       "2  K6fja4+jmoZ5xG6BypqX80Uw/XKpMgrEMdG2edFOxnA=         1   \n",
       "3  ibIHVYBqxGwrSExE63/omeDD99M5vYB3CN2HzkEY+eM=         1   \n",
       "4  moRTKhKIDvb+C8ZHOgmaF4dXMLk0jOn65d7a8tQ2Eds=         1   \n",
       "\n",
       "   payment_plan_days_mean  payment_plan_days_max  plan_list_price_mean  \\\n",
       "0                    30.0                     30                 180.0   \n",
       "1                    75.0                     90                 150.0   \n",
       "2                    30.0                     30                  99.0   \n",
       "3                    30.0                     30                 149.0   \n",
       "4                   410.0                    410                1788.0   \n",
       "\n",
       "   actual_amount_paid_sum  is_auto_renew_mean  is_cancel_mean  date  num_25  \\\n",
       "0                     180                 0.0           0.000     6       0   \n",
       "1                     300                 0.0           0.000    20     239   \n",
       "2                     792                 1.0           0.125    15       9   \n",
       "3                     149                 1.0           1.000     4       6   \n",
       "4                    1788                 0.0           0.000    31      78   \n",
       "\n",
       "   ...  num_75  num_985  num_100  num_unq  total_secs  city  bd  gender  \\\n",
       "0  ...       2        0       26       30    6986.509    13  20    male   \n",
       "1  ...      32       22      205      432   67810.467    13  18    male   \n",
       "2  ...       4        4      962      548  239882.241    13  35  female   \n",
       "3  ...       1        4       37       48   10110.665    22   0     NaN   \n",
       "4  ...      30       16     1023      758  290831.795     9  28  female   \n",
       "\n",
       "  registered_via  registration_init_time  \n",
       "0              3              2013-12-23  \n",
       "1              3              2013-12-27  \n",
       "2              7              2014-01-25  \n",
       "3              3              2014-01-26  \n",
       "4              3              2014-02-02  \n",
       "\n",
       "[5 rows x 21 columns]"
      ]
     },
     "execution_count": 205,
     "metadata": {},
     "output_type": "execute_result"
    }
   ],
   "source": [
    "user_main_members.head()"
   ]
  },
  {
   "cell_type": "code",
   "execution_count": 206,
   "id": "33286989-d678-40b9-a567-fe14898bcf82",
   "metadata": {},
   "outputs": [],
   "source": [
    "plan_churn = user_main_members.groupby('payment_plan_days_mean')['is_churn'].mean().reset_index()"
   ]
  },
  {
   "cell_type": "code",
   "execution_count": 207,
   "id": "054df299-2a5d-4c79-901b-770dfd6d8d3e",
   "metadata": {},
   "outputs": [
    {
     "data": {
      "text/html": [
       "<div>\n",
       "<style scoped>\n",
       "    .dataframe tbody tr th:only-of-type {\n",
       "        vertical-align: middle;\n",
       "    }\n",
       "\n",
       "    .dataframe tbody tr th {\n",
       "        vertical-align: top;\n",
       "    }\n",
       "\n",
       "    .dataframe thead th {\n",
       "        text-align: right;\n",
       "    }\n",
       "</style>\n",
       "<table border=\"1\" class=\"dataframe\">\n",
       "  <thead>\n",
       "    <tr style=\"text-align: right;\">\n",
       "      <th></th>\n",
       "      <th>payment_plan_days_mean</th>\n",
       "      <th>is_churn</th>\n",
       "    </tr>\n",
       "  </thead>\n",
       "  <tbody>\n",
       "    <tr>\n",
       "      <th>0</th>\n",
       "      <td>1.000000</td>\n",
       "      <td>0.916667</td>\n",
       "    </tr>\n",
       "    <tr>\n",
       "      <th>1</th>\n",
       "      <td>7.000000</td>\n",
       "      <td>0.740964</td>\n",
       "    </tr>\n",
       "    <tr>\n",
       "      <th>2</th>\n",
       "      <td>7.750000</td>\n",
       "      <td>1.000000</td>\n",
       "    </tr>\n",
       "    <tr>\n",
       "      <th>3</th>\n",
       "      <td>8.000000</td>\n",
       "      <td>1.000000</td>\n",
       "    </tr>\n",
       "    <tr>\n",
       "      <th>4</th>\n",
       "      <td>9.217949</td>\n",
       "      <td>1.000000</td>\n",
       "    </tr>\n",
       "    <tr>\n",
       "      <th>...</th>\n",
       "      <td>...</td>\n",
       "      <td>...</td>\n",
       "    </tr>\n",
       "    <tr>\n",
       "      <th>322</th>\n",
       "      <td>400.000000</td>\n",
       "      <td>1.000000</td>\n",
       "    </tr>\n",
       "    <tr>\n",
       "      <th>323</th>\n",
       "      <td>405.000000</td>\n",
       "      <td>1.000000</td>\n",
       "    </tr>\n",
       "    <tr>\n",
       "      <th>324</th>\n",
       "      <td>410.000000</td>\n",
       "      <td>1.000000</td>\n",
       "    </tr>\n",
       "    <tr>\n",
       "      <th>325</th>\n",
       "      <td>415.000000</td>\n",
       "      <td>1.000000</td>\n",
       "    </tr>\n",
       "    <tr>\n",
       "      <th>326</th>\n",
       "      <td>450.000000</td>\n",
       "      <td>1.000000</td>\n",
       "    </tr>\n",
       "  </tbody>\n",
       "</table>\n",
       "<p>327 rows × 2 columns</p>\n",
       "</div>"
      ],
      "text/plain": [
       "     payment_plan_days_mean  is_churn\n",
       "0                  1.000000  0.916667\n",
       "1                  7.000000  0.740964\n",
       "2                  7.750000  1.000000\n",
       "3                  8.000000  1.000000\n",
       "4                  9.217949  1.000000\n",
       "..                      ...       ...\n",
       "322              400.000000  1.000000\n",
       "323              405.000000  1.000000\n",
       "324              410.000000  1.000000\n",
       "325              415.000000  1.000000\n",
       "326              450.000000  1.000000\n",
       "\n",
       "[327 rows x 2 columns]"
      ]
     },
     "execution_count": 207,
     "metadata": {},
     "output_type": "execute_result"
    }
   ],
   "source": [
    "plan_churn"
   ]
  },
  {
   "cell_type": "code",
   "execution_count": 209,
   "id": "35f06ba4-84a1-4dc0-b287-07becd4d45c7",
   "metadata": {},
   "outputs": [
    {
     "data": {
      "image/png": "[encoded data removed]",
      "text/plain": [
       "<Figure size 1000x500 with 1 Axes>"
      ]
     },
     "metadata": {},
     "output_type": "display_data"
    }
   ],
   "source": [
    "plt.figure(figsize=(10,5))\n",
    "sns.histplot(plan_churn['payment_plan_days_mean'],bins=50,color='salmon',kde=True)\n",
    "plt.title(\"Churn Rate by Payment Plan Length\")\n",
    "plt.xlabel(\"Payment Plan Days\")\n",
    "plt.ylabel(\"Churn Rate\")\n",
    "plt.xticks(rotation=45)\n",
    "plt.show()"
   ]
  },
  {
   "cell_type": "markdown",
   "id": "39fc57f4-8068-4fa1-8b24-dad07d25494b",
   "metadata": {},
   "source": [
    "#### 0–100 days: churn rate increases — maybe short-term subscribers experiment or drop off quickly.\n",
    "#### Above 100 days: churn rate decreases — long-term subscribers are more committed.\n",
    "#### The density of users decreases as plan length increases (fewer users in long-term plans)."
   ]
  },
  {
   "cell_type": "code",
   "execution_count": 211,
   "id": "7285fd39-ed00-4c38-afc0-0022288bc92d",
   "metadata": {},
   "outputs": [
    {
     "data": {
      "image/png": "[encoded data removed]",
      "text/plain": [
       "<Figure size 640x480 with 1 Axes>"
      ]
     },
     "metadata": {},
     "output_type": "display_data"
    }
   ],
   "source": [
    "sns.scatterplot(\n",
    "    data=user_main_members,\n",
    "    x='is_auto_renew_mean',\n",
    "    y='is_churn',\n",
    "    alpha=0.3\n",
    ")\n",
    "plt.title(\"Churn Rate vs Auto-Renew Percentage\")\n",
    "plt.xlabel(\"Auto-Renew Percentage (0–1)\")\n",
    "plt.ylabel(\"Churn (0/1)\")\n",
    "plt.show()"
   ]
  },
  {
   "cell_type": "code",
   "execution_count": 212,
   "id": "c57ac0a9-6f09-4191-97e8-2d39f03bf6ec",
   "metadata": {},
   "outputs": [],
   "source": [
    "user_main_members['payment_ratio'] = user_main_members['actual_amount_paid_sum'] / (user_main_members['plan_list_price_mean'] + 1e-6)"
   ]
  },
  {
   "cell_type": "code",
   "execution_count": 213,
   "id": "9bdfa7d1-8e46-4b6e-9626-4cb552544ed5",
   "metadata": {},
   "outputs": [
    {
     "data": {
      "text/html": [
       "<div>\n",
       "<style scoped>\n",
       "    .dataframe tbody tr th:only-of-type {\n",
       "        vertical-align: middle;\n",
       "    }\n",
       "\n",
       "    .dataframe tbody tr th {\n",
       "        vertical-align: top;\n",
       "    }\n",
       "\n",
       "    .dataframe thead th {\n",
       "        text-align: right;\n",
       "    }\n",
       "</style>\n",
       "<table border=\"1\" class=\"dataframe\">\n",
       "  <thead>\n",
       "    <tr style=\"text-align: right;\">\n",
       "      <th></th>\n",
       "      <th>msno</th>\n",
       "      <th>is_churn</th>\n",
       "      <th>payment_plan_days_mean</th>\n",
       "      <th>payment_plan_days_max</th>\n",
       "      <th>plan_list_price_mean</th>\n",
       "      <th>actual_amount_paid_sum</th>\n",
       "      <th>is_auto_renew_mean</th>\n",
       "      <th>is_cancel_mean</th>\n",
       "      <th>date</th>\n",
       "      <th>num_25</th>\n",
       "      <th>...</th>\n",
       "      <th>num_985</th>\n",
       "      <th>num_100</th>\n",
       "      <th>num_unq</th>\n",
       "      <th>total_secs</th>\n",
       "      <th>city</th>\n",
       "      <th>bd</th>\n",
       "      <th>gender</th>\n",
       "      <th>registered_via</th>\n",
       "      <th>registration_init_time</th>\n",
       "      <th>payment_ratio</th>\n",
       "    </tr>\n",
       "  </thead>\n",
       "  <tbody>\n",
       "    <tr>\n",
       "      <th>0</th>\n",
       "      <td>f/NmvEzHfhINFEYZTR05prUdr+E+3+oewvweYz9cCQE=</td>\n",
       "      <td>1</td>\n",
       "      <td>30.0</td>\n",
       "      <td>30</td>\n",
       "      <td>180.0</td>\n",
       "      <td>180</td>\n",
       "      <td>0.0</td>\n",
       "      <td>0.000</td>\n",
       "      <td>6</td>\n",
       "      <td>0</td>\n",
       "      <td>...</td>\n",
       "      <td>0</td>\n",
       "      <td>26</td>\n",
       "      <td>30</td>\n",
       "      <td>6986.509</td>\n",
       "      <td>13</td>\n",
       "      <td>20</td>\n",
       "      <td>male</td>\n",
       "      <td>3</td>\n",
       "      <td>2013-12-23</td>\n",
       "      <td>1.0</td>\n",
       "    </tr>\n",
       "    <tr>\n",
       "      <th>1</th>\n",
       "      <td>zLo9f73nGGT1p21ltZC3ChiRnAVvgibMyazbCxvWPcg=</td>\n",
       "      <td>1</td>\n",
       "      <td>75.0</td>\n",
       "      <td>90</td>\n",
       "      <td>150.0</td>\n",
       "      <td>300</td>\n",
       "      <td>0.0</td>\n",
       "      <td>0.000</td>\n",
       "      <td>20</td>\n",
       "      <td>239</td>\n",
       "      <td>...</td>\n",
       "      <td>22</td>\n",
       "      <td>205</td>\n",
       "      <td>432</td>\n",
       "      <td>67810.467</td>\n",
       "      <td>13</td>\n",
       "      <td>18</td>\n",
       "      <td>male</td>\n",
       "      <td>3</td>\n",
       "      <td>2013-12-27</td>\n",
       "      <td>2.0</td>\n",
       "    </tr>\n",
       "    <tr>\n",
       "      <th>2</th>\n",
       "      <td>K6fja4+jmoZ5xG6BypqX80Uw/XKpMgrEMdG2edFOxnA=</td>\n",
       "      <td>1</td>\n",
       "      <td>30.0</td>\n",
       "      <td>30</td>\n",
       "      <td>99.0</td>\n",
       "      <td>792</td>\n",
       "      <td>1.0</td>\n",
       "      <td>0.125</td>\n",
       "      <td>15</td>\n",
       "      <td>9</td>\n",
       "      <td>...</td>\n",
       "      <td>4</td>\n",
       "      <td>962</td>\n",
       "      <td>548</td>\n",
       "      <td>239882.241</td>\n",
       "      <td>13</td>\n",
       "      <td>35</td>\n",
       "      <td>female</td>\n",
       "      <td>7</td>\n",
       "      <td>2014-01-25</td>\n",
       "      <td>8.0</td>\n",
       "    </tr>\n",
       "    <tr>\n",
       "      <th>3</th>\n",
       "      <td>ibIHVYBqxGwrSExE63/omeDD99M5vYB3CN2HzkEY+eM=</td>\n",
       "      <td>1</td>\n",
       "      <td>30.0</td>\n",
       "      <td>30</td>\n",
       "      <td>149.0</td>\n",
       "      <td>149</td>\n",
       "      <td>1.0</td>\n",
       "      <td>1.000</td>\n",
       "      <td>4</td>\n",
       "      <td>6</td>\n",
       "      <td>...</td>\n",
       "      <td>4</td>\n",
       "      <td>37</td>\n",
       "      <td>48</td>\n",
       "      <td>10110.665</td>\n",
       "      <td>22</td>\n",
       "      <td>0</td>\n",
       "      <td>NaN</td>\n",
       "      <td>3</td>\n",
       "      <td>2014-01-26</td>\n",
       "      <td>1.0</td>\n",
       "    </tr>\n",
       "    <tr>\n",
       "      <th>4</th>\n",
       "      <td>moRTKhKIDvb+C8ZHOgmaF4dXMLk0jOn65d7a8tQ2Eds=</td>\n",
       "      <td>1</td>\n",
       "      <td>410.0</td>\n",
       "      <td>410</td>\n",
       "      <td>1788.0</td>\n",
       "      <td>1788</td>\n",
       "      <td>0.0</td>\n",
       "      <td>0.000</td>\n",
       "      <td>31</td>\n",
       "      <td>78</td>\n",
       "      <td>...</td>\n",
       "      <td>16</td>\n",
       "      <td>1023</td>\n",
       "      <td>758</td>\n",
       "      <td>290831.795</td>\n",
       "      <td>9</td>\n",
       "      <td>28</td>\n",
       "      <td>female</td>\n",
       "      <td>3</td>\n",
       "      <td>2014-02-02</td>\n",
       "      <td>1.0</td>\n",
       "    </tr>\n",
       "  </tbody>\n",
       "</table>\n",
       "<p>5 rows × 22 columns</p>\n",
       "</div>"
      ],
      "text/plain": [
       "                                           msno  is_churn  \\\n",
       "0  f/NmvEzHfhINFEYZTR05prUdr+E+3+oewvweYz9cCQE=         1   \n",
       "1  zLo9f73nGGT1p21ltZC3ChiRnAVvgibMyazbCxvWPcg=         1   \n",
       "2  K6fja4+jmoZ5xG6BypqX80Uw/XKpMgrEMdG2edFOxnA=         1   \n",
       "3  ibIHVYBqxGwrSExE63/omeDD99M5vYB3CN2HzkEY+eM=         1   \n",
       "4  moRTKhKIDvb+C8ZHOgmaF4dXMLk0jOn65d7a8tQ2Eds=         1   \n",
       "\n",
       "   payment_plan_days_mean  payment_plan_days_max  plan_list_price_mean  \\\n",
       "0                    30.0                     30                 180.0   \n",
       "1                    75.0                     90                 150.0   \n",
       "2                    30.0                     30                  99.0   \n",
       "3                    30.0                     30                 149.0   \n",
       "4                   410.0                    410                1788.0   \n",
       "\n",
       "   actual_amount_paid_sum  is_auto_renew_mean  is_cancel_mean  date  num_25  \\\n",
       "0                     180                 0.0           0.000     6       0   \n",
       "1                     300                 0.0           0.000    20     239   \n",
       "2                     792                 1.0           0.125    15       9   \n",
       "3                     149                 1.0           1.000     4       6   \n",
       "4                    1788                 0.0           0.000    31      78   \n",
       "\n",
       "   ...  num_985  num_100  num_unq  total_secs  city  bd  gender  \\\n",
       "0  ...        0       26       30    6986.509    13  20    male   \n",
       "1  ...       22      205      432   67810.467    13  18    male   \n",
       "2  ...        4      962      548  239882.241    13  35  female   \n",
       "3  ...        4       37       48   10110.665    22   0     NaN   \n",
       "4  ...       16     1023      758  290831.795     9  28  female   \n",
       "\n",
       "   registered_via registration_init_time  payment_ratio  \n",
       "0               3             2013-12-23            1.0  \n",
       "1               3             2013-12-27            2.0  \n",
       "2               7             2014-01-25            8.0  \n",
       "3               3             2014-01-26            1.0  \n",
       "4               3             2014-02-02            1.0  \n",
       "\n",
       "[5 rows x 22 columns]"
      ]
     },
     "execution_count": 213,
     "metadata": {},
     "output_type": "execute_result"
    }
   ],
   "source": [
    "user_main_members.head()"
   ]
  },
  {
   "cell_type": "code",
   "execution_count": 214,
   "id": "4d8669ce-73a9-4e23-9fe4-92ca644047aa",
   "metadata": {},
   "outputs": [
    {
     "data": {
      "text/plain": [
       "count    725722.000000\n",
       "mean          1.220456\n",
       "std           1.215214\n",
       "min           0.000000\n",
       "25%           1.000000\n",
       "50%           1.000000\n",
       "75%           1.000000\n",
       "max          77.999989\n",
       "Name: payment_ratio, dtype: float64"
      ]
     },
     "execution_count": 214,
     "metadata": {},
     "output_type": "execute_result"
    }
   ],
   "source": [
    "user_main_members['payment_ratio'].describe()"
   ]
  },
  {
   "cell_type": "code",
   "execution_count": 215,
   "id": "c10cd542-88cb-4570-80d2-2ad1f4551ffb",
   "metadata": {},
   "outputs": [
    {
     "data": {
      "image/png": "[encoded data removed]",
      "text/plain": [
       "<Figure size 640x480 with 1 Axes>"
      ]
     },
     "metadata": {},
     "output_type": "display_data"
    }
   ],
   "source": [
    "sns.histplot(user_main_members['payment_ratio'], bins=30, kde=True)\n",
    "plt.title(\"Distribution of Payment Ratios\")\n",
    "plt.xlabel(\"Payment Ratio (Actual Paid / List Price)\")\n",
    "plt.ylabel(\"Count\")\n",
    "plt.show()"
   ]
  },
  {
   "cell_type": "code",
   "execution_count": 216,
   "id": "6fbed385-46b4-4529-ad08-136fd25970be",
   "metadata": {},
   "outputs": [],
   "source": [
    "activity_cols = ['num_25','num_50','num_75','num_985','num_100','num_unq','total_secs']"
   ]
  },
  {
   "cell_type": "code",
   "execution_count": 217,
   "id": "a599179e-c2fa-4efe-ba66-5eb31904dc9c",
   "metadata": {},
   "outputs": [],
   "source": [
    "activity_comparison = user_main_members.groupby('is_churn')[activity_cols].mean().T.rename(columns={0:'Non-churners',1:'Churners'})"
   ]
  },
  {
   "cell_type": "code",
   "execution_count": 218,
   "id": "ff2c3f96-a099-447a-b773-5d86380796d6",
   "metadata": {},
   "outputs": [
    {
     "name": "stdout",
     "output_type": "stream",
     "text": [
      "is_churn     Non-churners       Churners\n",
      "num_25         109.347672     125.207068\n",
      "num_50          26.355489      30.541639\n",
      "num_75          16.648452      18.914169\n",
      "num_985         18.864716      21.041907\n",
      "num_100        542.657026     587.226252\n",
      "num_unq        516.787576     573.695148\n",
      "total_secs  141495.999618  153375.014484\n"
     ]
    }
   ],
   "source": [
    "print(activity_comparison)"
   ]
  },
  {
   "cell_type": "code",
   "execution_count": 219,
   "id": "515745a0-46d1-43e5-8b2a-2ba384216b4c",
   "metadata": {},
   "outputs": [
    {
     "data": {
      "image/png": "[encoded data removed]",
      "text/plain": [
       "<Figure size 640x480 with 1 Axes>"
      ]
     },
     "metadata": {},
     "output_type": "display_data"
    }
   ],
   "source": [
    "sns.boxplot(data=user_main_members, x='is_churn', y='num_unq')\n",
    "plt.title(\"Unique Tracks vs Churn\")\n",
    "plt.xlabel(\"Is Churn (1=Churned)\")\n",
    "plt.ylabel(\"Average Number of Unique Tracks\")\n",
    "plt.show()"
   ]
  },
  {
   "cell_type": "code",
   "execution_count": 220,
   "id": "76a2307b-74a7-4664-9190-152f165d4ec4",
   "metadata": {},
   "outputs": [
    {
     "data": {
      "text/plain": [
       "gender\n",
       "NaN       381807\n",
       "male      179846\n",
       "female    164069\n",
       "Name: count, dtype: int64"
      ]
     },
     "execution_count": 220,
     "metadata": {},
     "output_type": "execute_result"
    }
   ],
   "source": [
    "user_main_members['gender'].value_counts(dropna=False)"
   ]
  },
  {
   "cell_type": "code",
   "execution_count": 221,
   "id": "ef3c5f99-2504-4b42-b542-a52600cef735",
   "metadata": {},
   "outputs": [],
   "source": [
    "user_main_members['gender'] = user_main_members['gender'].fillna('Unknown')"
   ]
  },
  {
   "cell_type": "code",
   "execution_count": 222,
   "id": "a7de3e9c-c29a-47e6-b44a-7e8df5b215db",
   "metadata": {},
   "outputs": [],
   "source": [
    "gender_churn = (user_main_members.groupby('gender')['is_churn'].mean().reset_index().sort_values('is_churn', ascending=False))"
   ]
  },
  {
   "cell_type": "code",
   "execution_count": 223,
   "id": "bcc226f1-226a-4ae0-869e-e88f832482eb",
   "metadata": {},
   "outputs": [
    {
     "data": {
      "text/html": [
       "<div>\n",
       "<style scoped>\n",
       "    .dataframe tbody tr th:only-of-type {\n",
       "        vertical-align: middle;\n",
       "    }\n",
       "\n",
       "    .dataframe tbody tr th {\n",
       "        vertical-align: top;\n",
       "    }\n",
       "\n",
       "    .dataframe thead th {\n",
       "        text-align: right;\n",
       "    }\n",
       "</style>\n",
       "<table border=\"1\" class=\"dataframe\">\n",
       "  <thead>\n",
       "    <tr style=\"text-align: right;\">\n",
       "      <th></th>\n",
       "      <th>gender</th>\n",
       "      <th>is_churn</th>\n",
       "    </tr>\n",
       "  </thead>\n",
       "  <tbody>\n",
       "    <tr>\n",
       "      <th>1</th>\n",
       "      <td>female</td>\n",
       "      <td>0.090267</td>\n",
       "    </tr>\n",
       "    <tr>\n",
       "      <th>2</th>\n",
       "      <td>male</td>\n",
       "      <td>0.087314</td>\n",
       "    </tr>\n",
       "    <tr>\n",
       "      <th>0</th>\n",
       "      <td>Unknown</td>\n",
       "      <td>0.042142</td>\n",
       "    </tr>\n",
       "  </tbody>\n",
       "</table>\n",
       "</div>"
      ],
      "text/plain": [
       "    gender  is_churn\n",
       "1   female  0.090267\n",
       "2     male  0.087314\n",
       "0  Unknown  0.042142"
      ]
     },
     "execution_count": 223,
     "metadata": {},
     "output_type": "execute_result"
    }
   ],
   "source": [
    "gender_churn"
   ]
  },
  {
   "cell_type": "code",
   "execution_count": 224,
   "id": "0d00b3e2-cff1-4451-9c7d-1da5c6e3177e",
   "metadata": {},
   "outputs": [
    {
     "data": {
      "image/png": "[encoded data removed]",
      "text/plain": [
       "<Figure size 800x500 with 1 Axes>"
      ]
     },
     "metadata": {},
     "output_type": "display_data"
    }
   ],
   "source": [
    "plt.figure(figsize=(8,5))\n",
    "plt.bar(gender_churn['gender'], gender_churn['is_churn'], color=['teal','orange','gray'])\n",
    "plt.title(\"Churn Rate by Gender\")\n",
    "plt.xlabel(\"Gender\")\n",
    "plt.ylabel(\"Churn Rate\")\n",
    "plt.show()"
   ]
  },
  {
   "cell_type": "code",
   "execution_count": 225,
   "id": "8b8fffbc-8889-43fe-9048-65a01c52a1ff",
   "metadata": {},
   "outputs": [],
   "source": [
    "reg_channel = (\n",
    "    user_main_members.groupby('registered_via')['is_churn']\n",
    "    .mean()\n",
    "    .reset_index()\n",
    "    .sort_values('is_churn', ascending=False)\n",
    ")"
   ]
  },
  {
   "cell_type": "code",
   "execution_count": 226,
   "id": "6645bb01-1ec4-41df-bad6-1940154c51e9",
   "metadata": {},
   "outputs": [
    {
     "data": {
      "text/html": [
       "<div>\n",
       "<style scoped>\n",
       "    .dataframe tbody tr th:only-of-type {\n",
       "        vertical-align: middle;\n",
       "    }\n",
       "\n",
       "    .dataframe tbody tr th {\n",
       "        vertical-align: top;\n",
       "    }\n",
       "\n",
       "    .dataframe thead th {\n",
       "        text-align: right;\n",
       "    }\n",
       "</style>\n",
       "<table border=\"1\" class=\"dataframe\">\n",
       "  <thead>\n",
       "    <tr style=\"text-align: right;\">\n",
       "      <th></th>\n",
       "      <th>registered_via</th>\n",
       "      <th>is_churn</th>\n",
       "    </tr>\n",
       "  </thead>\n",
       "  <tbody>\n",
       "    <tr>\n",
       "      <th>1</th>\n",
       "      <td>4</td>\n",
       "      <td>0.144795</td>\n",
       "    </tr>\n",
       "    <tr>\n",
       "      <th>0</th>\n",
       "      <td>3</td>\n",
       "      <td>0.111047</td>\n",
       "    </tr>\n",
       "    <tr>\n",
       "      <th>3</th>\n",
       "      <td>9</td>\n",
       "      <td>0.089564</td>\n",
       "    </tr>\n",
       "    <tr>\n",
       "      <th>4</th>\n",
       "      <td>13</td>\n",
       "      <td>0.068489</td>\n",
       "    </tr>\n",
       "    <tr>\n",
       "      <th>2</th>\n",
       "      <td>7</td>\n",
       "      <td>0.029747</td>\n",
       "    </tr>\n",
       "  </tbody>\n",
       "</table>\n",
       "</div>"
      ],
      "text/plain": [
       "   registered_via  is_churn\n",
       "1               4  0.144795\n",
       "0               3  0.111047\n",
       "3               9  0.089564\n",
       "4              13  0.068489\n",
       "2               7  0.029747"
      ]
     },
     "execution_count": 226,
     "metadata": {},
     "output_type": "execute_result"
    }
   ],
   "source": [
    "reg_channel"
   ]
  },
  {
   "cell_type": "code",
   "execution_count": 227,
   "id": "c43b6f05-20b6-4c82-a47e-8dd124aeeb63",
   "metadata": {},
   "outputs": [
    {
     "data": {
      "image/png": "[encoded data removed]",
      "text/plain": [
       "<Figure size 800x500 with 1 Axes>"
      ]
     },
     "metadata": {},
     "output_type": "display_data"
    }
   ],
   "source": [
    "plt.figure(figsize=(8,5))\n",
    "plt.bar(reg_channel['registered_via'].astype(str), reg_channel['is_churn'], color='teal')\n",
    "plt.title(\"Churn Rate by Registration Channel\")\n",
    "plt.xlabel(\"Registration Channel (registered_via)\")\n",
    "plt.ylabel(\"Churn Rate\")\n",
    "plt.show()"
   ]
  },
  {
   "cell_type": "code",
   "execution_count": 268,
   "id": "30f0ae23-8d16-468a-87a5-1f7183ebe446",
   "metadata": {},
   "outputs": [],
   "source": [
    "user_main_members['cancel_bin'] = pd.cut(\n",
    "    user_main_members['is_cancel_mean'],\n",
    "    bins=[0, 0.2, 0.5, 0.8, 1.0],\n",
    "    labels=['0–20%', '20–50%', '50–80%', '80–100%'],\n",
    "    include_lowest=True\n",
    ")"
   ]
  },
  {
   "cell_type": "code",
   "execution_count": 270,
   "id": "fd190def-0a47-472b-92cf-01bfcf4df81c",
   "metadata": {},
   "outputs": [],
   "source": [
    "cancel_churn = (\n",
    "    user_main_members.groupby('cancel_bin')['is_churn']\n",
    "    .mean()\n",
    "    .reset_index()\n",
    ")"
   ]
  },
  {
   "cell_type": "code",
   "execution_count": 271,
   "id": "a1e94ac3-04c4-487e-9052-cd3cdf09921b",
   "metadata": {},
   "outputs": [
    {
     "data": {
      "image/png": "[encoded data removed]",
      "text/plain": [
       "<Figure size 640x480 with 1 Axes>"
      ]
     },
     "metadata": {},
     "output_type": "display_data"
    }
   ],
   "source": [
    "sns.barplot(x='cancel_bin', y='is_churn', data=cancel_churn)\n",
    "plt.title(\"Churn Rate across Cancellation Frequency\")\n",
    "plt.xlabel(\"Cancellation Percentage Range\")\n",
    "plt.ylabel(\"Average Churn Rate\")\n",
    "plt.show()"
   ]
  },
  {
   "cell_type": "code",
   "execution_count": 235,
   "id": "5471b4f2-7625-4be0-b1eb-cd93349f411a",
   "metadata": {},
   "outputs": [
    {
     "data": {
      "image/png": "[encoded data removed]",
      "text/plain": [
       "<Figure size 640x480 with 1 Axes>"
      ]
     },
     "metadata": {},
     "output_type": "display_data"
    }
   ],
   "source": [
    "sns.barplot(data=cancel_auto, x='is_cancel', y='is_churn', hue='is_auto_renew')\n",
    "plt.title('Churn rate by Cancel & Auto Renew')\n",
    "plt.show()"
   ]
  },
  {
   "cell_type": "code",
   "execution_count": 236,
   "id": "cd42fd93-f529-4ed9-9b64-2731573fac64",
   "metadata": {},
   "outputs": [
    {
     "data": {
      "text/plain": [
       "Index(['msno', 'is_churn', 'payment_plan_days_mean', 'payment_plan_days_max',\n",
       "       'plan_list_price_mean', 'actual_amount_paid_sum', 'is_auto_renew_mean',\n",
       "       'is_cancel_mean', 'date', 'num_25', 'num_50', 'num_75', 'num_985',\n",
       "       'num_100', 'num_unq', 'total_secs', 'city', 'bd', 'gender',\n",
       "       'registered_via', 'registration_init_time', 'payment_ratio',\n",
       "       'cancel_bin'],\n",
       "      dtype='object')"
      ]
     },
     "execution_count": 236,
     "metadata": {},
     "output_type": "execute_result"
    }
   ],
   "source": [
    "user_main_members.columns"
   ]
  },
  {
   "cell_type": "code",
   "execution_count": 244,
   "id": "044faf41-997c-45d7-aefd-5f6f620394ed",
   "metadata": {},
   "outputs": [],
   "source": [
    "selected_cols = ['payment_ratio','num_25','num_50','num_75','num_985','num_100','num_unq','total_secs','is_cancel_mean','is_auto_renew_mean','is_churn']"
   ]
  },
  {
   "cell_type": "code",
   "execution_count": 237,
   "id": "5c98d116-afc9-4cb6-91ff-45d4d0b97335",
   "metadata": {},
   "outputs": [],
   "source": [
    "def churn_correlation(df, features, target='is_churn'):\n",
    "    corr_df = df[features].copy()\n",
    "    \n",
    "    corr_matrix = corr_df.corr()\n",
    "    \n",
    "    churn_corr = corr_matrix[[target]].drop(target).sort_values(by=target, key=abs, ascending=False)\n",
    "    \n",
    "    print(\"Top correlated features with churn:\\n\")\n",
    "    print(churn_corr)\n",
    "    \n",
    "    # Plot as heatmap\n",
    "    plt.figure(figsize=(6, len(churn_corr)*0.5 + 2))\n",
    "    sns.heatmap(churn_corr, annot=True, cmap='coolwarm', center=0)\n",
    "    plt.title(f\"Feature Correlations with {target}\")\n",
    "    plt.xlabel(\"Correlation Coefficient\")\n",
    "    plt.ylabel(\"Feature\")\n",
    "    plt.show()"
   ]
  },
  {
   "cell_type": "code",
   "execution_count": 245,
   "id": "fe5ef48e-4a5c-4545-a0a9-81d2a8a26914",
   "metadata": {},
   "outputs": [
    {
     "name": "stdout",
     "output_type": "stream",
     "text": [
      "Top correlated features with churn:\n",
      "\n",
      "                    is_churn\n",
      "is_cancel_mean      0.361799\n",
      "is_auto_renew_mean -0.347661\n",
      "payment_ratio       0.095802\n",
      "num_50              0.026329\n",
      "num_75              0.024600\n",
      "num_unq             0.023274\n",
      "num_25              0.021524\n",
      "total_secs          0.015547\n",
      "num_100             0.014161\n",
      "num_985             0.012619\n"
     ]
    },
    {
     "data": {
      "image/png": "[encoded data removed]",
      "text/plain": [
       "<Figure size 600x700 with 2 Axes>"
      ]
     },
     "metadata": {},
     "output_type": "display_data"
    }
   ],
   "source": [
    "churn_correlation(user_main_members,selected_cols)"
   ]
  },
  {
   "cell_type": "markdown",
   "id": "b91e6975-6e13-4602-b270-2b75ec462dac",
   "metadata": {},
   "source": [
    "### Overall report analysis \n",
    "#### The dataset is highly imbalanced, indicating a much larger proportion of non-churned customers compared to churned ones.\n",
    "\n",
    "### Subscription and Pricing Patterns\n",
    "#### The most commonly purchased plans are 30-day subscriptions, suggesting short-term commitment cycles.\n",
    "#### The majority of plan prices fall within the range of ₹149–₹250, with very few free-trial or discounted customers.\n",
    "#### Discounts tend to attract short-term users with low lifetime value, whereas full-price subscribers demonstrate higher loyalty\n",
    "\n",
    "### Subscription and Pricing Patterns\n",
    "#### The most commonly purchased plans are 30-day subscriptions, suggesting short-term commitment cycles.\n",
    "#### The majority of plan prices fall within the range of ₹149–₹250, with very few free-trial or discounted customers.\n",
    "#### Discounts tend to attract short-term users with low lifetime value, whereas full-price subscribers demonstrate higher loyalty.\n",
    "\n",
    "### Payment and Renewal Behavior\n",
    "#### The most frequently used payment methods are coded as 41, 39, and 36, indicating preferred transaction modes.\n",
    "#### Around 796,865 users have auto-renew enabled, highlighting a strong customer base that prefers recurring billing.\n",
    "#### Customers with auto-renew enabled show significantly lower churn rates, confirming its effectiveness in retaining users.\n",
    "\n",
    "### Temporal Patterns\n",
    "#### Day 30 shows the lowest churn, likely due to ongoing short-term plans or renewals.\n",
    "#### Churn rate increases as tenure (number of days since subscription) increases, implying that customer engagement or value perception may drop over time."
   ]
  },
  {
   "cell_type": "code",
   "execution_count": 246,
   "id": "c6c41775-d1a9-4f8b-acca-8058502d4d27",
   "metadata": {},
   "outputs": [
    {
     "data": {
      "image/png": "[encoded data removed]",
      "text/plain": [
       "<Figure size 640x480 with 1 Axes>"
      ]
     },
     "metadata": {},
     "output_type": "display_data"
    }
   ],
   "source": [
    "sns.histplot(user_main_members['bd'], bins=100, kde=True)\n",
    "plt.title(\"Age Distribution Before Cleaning\")\n",
    "plt.show()"
   ]
  },
  {
   "cell_type": "code",
   "execution_count": 247,
   "id": "9e1fdac0-6bf7-43bc-85b1-208b34799b9b",
   "metadata": {},
   "outputs": [],
   "source": [
    "user_main_members['bd'] = user_main_members['bd'].abs()"
   ]
  },
  {
   "cell_type": "code",
   "execution_count": 248,
   "id": "fae025d4-6b1f-4989-9fb0-717849cd32f6",
   "metadata": {},
   "outputs": [
    {
     "data": {
      "image/png": "[encoded data removed]",
      "text/plain": [
       "<Figure size 640x480 with 1 Axes>"
      ]
     },
     "metadata": {},
     "output_type": "display_data"
    }
   ],
   "source": [
    "sns.histplot(user_main_members['bd'], bins=100, kde=True)\n",
    "plt.show()"
   ]
  },
  {
   "cell_type": "code",
   "execution_count": 249,
   "id": "aa52b8d5-259b-48a3-b46b-445373b65edf",
   "metadata": {},
   "outputs": [],
   "source": [
    "user_main_members['bd'] = user_main_members['bd'].apply(lambda x:np.nan if x < 13 or x > 60 else x)"
   ]
  },
  {
   "cell_type": "code",
   "execution_count": 250,
   "id": "d127a445-5831-419c-a132-7834224332d0",
   "metadata": {},
   "outputs": [
    {
     "data": {
      "text/plain": [
       "count    340203.000000\n",
       "mean         29.607605\n",
       "std           8.270244\n",
       "min          13.000000\n",
       "25%          24.000000\n",
       "50%          28.000000\n",
       "75%          34.000000\n",
       "max          60.000000\n",
       "Name: bd, dtype: float64"
      ]
     },
     "execution_count": 250,
     "metadata": {},
     "output_type": "execute_result"
    }
   ],
   "source": [
    "user_main_members['bd'].describe()"
   ]
  },
  {
   "cell_type": "code",
   "execution_count": 251,
   "id": "43aa23a6-1642-4008-80bc-5c7bbcaef759",
   "metadata": {},
   "outputs": [
    {
     "data": {
      "image/png": "[encoded data removed]",
      "text/plain": [
       "<Figure size 640x480 with 1 Axes>"
      ]
     },
     "metadata": {},
     "output_type": "display_data"
    }
   ],
   "source": [
    "sns.histplot(user_main_members['bd'], bins=100, kde=True)\n",
    "plt.title(\"Age distribution after defining logical bounds of age\")\n",
    "plt.show()"
   ]
  },
  {
   "cell_type": "code",
   "execution_count": 252,
   "id": "31f77ddd-48fe-413c-80fd-ae2d8c56fe84",
   "metadata": {},
   "outputs": [],
   "source": [
    "bins = [10, 20, 30, 40, 50, 60]"
   ]
  },
  {
   "cell_type": "code",
   "execution_count": 253,
   "id": "2fcd4933-e057-4ebd-894d-a7577d5ed3e4",
   "metadata": {},
   "outputs": [],
   "source": [
    "labels = ['10-19', '20-29', '30-39', '40-49', '50-59']"
   ]
  },
  {
   "cell_type": "code",
   "execution_count": 254,
   "id": "a03b8ecd-6121-4ce6-a305-1177b95d5d6e",
   "metadata": {},
   "outputs": [],
   "source": [
    "user_main_members['age_bin'] = pd.cut(user_main_members['bd'],bins=bins,labels=labels)"
   ]
  },
  {
   "cell_type": "code",
   "execution_count": 255,
   "id": "84f64ae7-18f2-48b8-8416-abff2106739f",
   "metadata": {},
   "outputs": [],
   "source": [
    "most_freq_bin = user_main_members['age_bin'].mode()[0]"
   ]
  },
  {
   "cell_type": "code",
   "execution_count": 256,
   "id": "828ce21f-2a8e-4456-82c0-4f923478359e",
   "metadata": {},
   "outputs": [
    {
     "data": {
      "text/plain": [
       "'20-29'"
      ]
     },
     "execution_count": 256,
     "metadata": {},
     "output_type": "execute_result"
    }
   ],
   "source": [
    "most_freq_bin"
   ]
  },
  {
   "cell_type": "code",
   "execution_count": 257,
   "id": "317e5d9d-2f26-4839-9ec1-a315928eff9c",
   "metadata": {},
   "outputs": [],
   "source": [
    "user_main_members['age_bin'] = user_main_members['age_bin'].fillna(most_freq_bin)"
   ]
  },
  {
   "cell_type": "code",
   "execution_count": 258,
   "id": "237866c5-ea19-4a6b-886d-80db7d6360ee",
   "metadata": {},
   "outputs": [
    {
     "data": {
      "text/plain": [
       "np.int64(0)"
      ]
     },
     "execution_count": 258,
     "metadata": {},
     "output_type": "execute_result"
    }
   ],
   "source": [
    "user_main_members['age_bin'].isnull().sum()"
   ]
  },
  {
   "cell_type": "code",
   "execution_count": 259,
   "id": "8587c790-7246-481f-8b24-100b52bdb8b9",
   "metadata": {},
   "outputs": [
    {
     "name": "stdout",
     "output_type": "stream",
     "text": [
      "age_bin\n",
      "20-29    562180\n",
      "30-39     92106\n",
      "10-19     35067\n",
      "40-49     27749\n",
      "50-59      8620\n",
      "Name: count, dtype: int64\n"
     ]
    }
   ],
   "source": [
    "print(user_main_members['age_bin'].value_counts())"
   ]
  },
  {
   "cell_type": "code",
   "execution_count": 273,
   "id": "38db1b7f-5130-43b8-9713-86166327ff35",
   "metadata": {},
   "outputs": [],
   "source": [
    "df = user_main_members.copy()"
   ]
  },
  {
   "cell_type": "code",
   "execution_count": 274,
   "id": "682223ec-463a-45bf-9a28-d5e4b8f910ac",
   "metadata": {},
   "outputs": [],
   "source": [
    "df.drop('bd',axis=1,inplace=True)"
   ]
  },
  {
   "cell_type": "code",
   "execution_count": 275,
   "id": "52f09a8b-860a-4bf5-9e97-ea194620a3d9",
   "metadata": {},
   "outputs": [
    {
     "data": {
      "text/plain": [
       "msno                      0\n",
       "is_churn                  0\n",
       "payment_plan_days_mean    0\n",
       "payment_plan_days_max     0\n",
       "plan_list_price_mean      0\n",
       "actual_amount_paid_sum    0\n",
       "is_auto_renew_mean        0\n",
       "is_cancel_mean            0\n",
       "date                      0\n",
       "num_25                    0\n",
       "num_50                    0\n",
       "num_75                    0\n",
       "num_985                   0\n",
       "num_100                   0\n",
       "num_unq                   0\n",
       "total_secs                0\n",
       "city                      0\n",
       "gender                    0\n",
       "registered_via            0\n",
       "registration_init_time    0\n",
       "payment_ratio             0\n",
       "age_bin                   0\n",
       "cancel_bin                0\n",
       "dtype: int64"
      ]
     },
     "execution_count": 275,
     "metadata": {},
     "output_type": "execute_result"
    }
   ],
   "source": [
    "df.isnull().sum()"
   ]
  },
  {
   "cell_type": "code",
   "execution_count": 278,
   "id": "4889b714-29c6-44f7-94ee-8be789bb5bff",
   "metadata": {},
   "outputs": [
    {
     "data": {
      "text/html": [
       "<div>\n",
       "<style scoped>\n",
       "    .dataframe tbody tr th:only-of-type {\n",
       "        vertical-align: middle;\n",
       "    }\n",
       "\n",
       "    .dataframe tbody tr th {\n",
       "        vertical-align: top;\n",
       "    }\n",
       "\n",
       "    .dataframe thead th {\n",
       "        text-align: right;\n",
       "    }\n",
       "</style>\n",
       "<table border=\"1\" class=\"dataframe\">\n",
       "  <thead>\n",
       "    <tr style=\"text-align: right;\">\n",
       "      <th></th>\n",
       "      <th>msno</th>\n",
       "      <th>is_churn</th>\n",
       "      <th>payment_plan_days_mean</th>\n",
       "      <th>payment_plan_days_max</th>\n",
       "      <th>plan_list_price_mean</th>\n",
       "      <th>actual_amount_paid_sum</th>\n",
       "      <th>is_auto_renew_mean</th>\n",
       "      <th>is_cancel_mean</th>\n",
       "      <th>date</th>\n",
       "      <th>num_25</th>\n",
       "      <th>...</th>\n",
       "      <th>num_100</th>\n",
       "      <th>num_unq</th>\n",
       "      <th>total_secs</th>\n",
       "      <th>city</th>\n",
       "      <th>gender</th>\n",
       "      <th>registered_via</th>\n",
       "      <th>registration_init_time</th>\n",
       "      <th>payment_ratio</th>\n",
       "      <th>age_bin</th>\n",
       "      <th>cancel_bin</th>\n",
       "    </tr>\n",
       "  </thead>\n",
       "  <tbody>\n",
       "    <tr>\n",
       "      <th>0</th>\n",
       "      <td>f/NmvEzHfhINFEYZTR05prUdr+E+3+oewvweYz9cCQE=</td>\n",
       "      <td>1</td>\n",
       "      <td>30.0</td>\n",
       "      <td>30</td>\n",
       "      <td>180.0</td>\n",
       "      <td>180</td>\n",
       "      <td>0.0</td>\n",
       "      <td>0.000</td>\n",
       "      <td>6</td>\n",
       "      <td>0</td>\n",
       "      <td>...</td>\n",
       "      <td>26</td>\n",
       "      <td>30</td>\n",
       "      <td>6986.509</td>\n",
       "      <td>13</td>\n",
       "      <td>male</td>\n",
       "      <td>3</td>\n",
       "      <td>2013-12-23</td>\n",
       "      <td>1.0</td>\n",
       "      <td>10-19</td>\n",
       "      <td>0–20%</td>\n",
       "    </tr>\n",
       "    <tr>\n",
       "      <th>1</th>\n",
       "      <td>zLo9f73nGGT1p21ltZC3ChiRnAVvgibMyazbCxvWPcg=</td>\n",
       "      <td>1</td>\n",
       "      <td>75.0</td>\n",
       "      <td>90</td>\n",
       "      <td>150.0</td>\n",
       "      <td>300</td>\n",
       "      <td>0.0</td>\n",
       "      <td>0.000</td>\n",
       "      <td>20</td>\n",
       "      <td>239</td>\n",
       "      <td>...</td>\n",
       "      <td>205</td>\n",
       "      <td>432</td>\n",
       "      <td>67810.467</td>\n",
       "      <td>13</td>\n",
       "      <td>male</td>\n",
       "      <td>3</td>\n",
       "      <td>2013-12-27</td>\n",
       "      <td>2.0</td>\n",
       "      <td>10-19</td>\n",
       "      <td>0–20%</td>\n",
       "    </tr>\n",
       "    <tr>\n",
       "      <th>2</th>\n",
       "      <td>K6fja4+jmoZ5xG6BypqX80Uw/XKpMgrEMdG2edFOxnA=</td>\n",
       "      <td>1</td>\n",
       "      <td>30.0</td>\n",
       "      <td>30</td>\n",
       "      <td>99.0</td>\n",
       "      <td>792</td>\n",
       "      <td>1.0</td>\n",
       "      <td>0.125</td>\n",
       "      <td>15</td>\n",
       "      <td>9</td>\n",
       "      <td>...</td>\n",
       "      <td>962</td>\n",
       "      <td>548</td>\n",
       "      <td>239882.241</td>\n",
       "      <td>13</td>\n",
       "      <td>female</td>\n",
       "      <td>7</td>\n",
       "      <td>2014-01-25</td>\n",
       "      <td>8.0</td>\n",
       "      <td>30-39</td>\n",
       "      <td>0–20%</td>\n",
       "    </tr>\n",
       "    <tr>\n",
       "      <th>3</th>\n",
       "      <td>ibIHVYBqxGwrSExE63/omeDD99M5vYB3CN2HzkEY+eM=</td>\n",
       "      <td>1</td>\n",
       "      <td>30.0</td>\n",
       "      <td>30</td>\n",
       "      <td>149.0</td>\n",
       "      <td>149</td>\n",
       "      <td>1.0</td>\n",
       "      <td>1.000</td>\n",
       "      <td>4</td>\n",
       "      <td>6</td>\n",
       "      <td>...</td>\n",
       "      <td>37</td>\n",
       "      <td>48</td>\n",
       "      <td>10110.665</td>\n",
       "      <td>22</td>\n",
       "      <td>Unknown</td>\n",
       "      <td>3</td>\n",
       "      <td>2014-01-26</td>\n",
       "      <td>1.0</td>\n",
       "      <td>20-29</td>\n",
       "      <td>80–100%</td>\n",
       "    </tr>\n",
       "    <tr>\n",
       "      <th>4</th>\n",
       "      <td>moRTKhKIDvb+C8ZHOgmaF4dXMLk0jOn65d7a8tQ2Eds=</td>\n",
       "      <td>1</td>\n",
       "      <td>410.0</td>\n",
       "      <td>410</td>\n",
       "      <td>1788.0</td>\n",
       "      <td>1788</td>\n",
       "      <td>0.0</td>\n",
       "      <td>0.000</td>\n",
       "      <td>31</td>\n",
       "      <td>78</td>\n",
       "      <td>...</td>\n",
       "      <td>1023</td>\n",
       "      <td>758</td>\n",
       "      <td>290831.795</td>\n",
       "      <td>9</td>\n",
       "      <td>female</td>\n",
       "      <td>3</td>\n",
       "      <td>2014-02-02</td>\n",
       "      <td>1.0</td>\n",
       "      <td>20-29</td>\n",
       "      <td>0–20%</td>\n",
       "    </tr>\n",
       "  </tbody>\n",
       "</table>\n",
       "<p>5 rows × 23 columns</p>\n",
       "</div>"
      ],
      "text/plain": [
       "                                           msno  is_churn  \\\n",
       "0  f/NmvEzHfhINFEYZTR05prUdr+E+3+oewvweYz9cCQE=         1   \n",
       "1  zLo9f73nGGT1p21ltZC3ChiRnAVvgibMyazbCxvWPcg=         1   \n",
       "2  K6fja4+jmoZ5xG6BypqX80Uw/XKpMgrEMdG2edFOxnA=         1   \n",
       "3  ibIHVYBqxGwrSExE63/omeDD99M5vYB3CN2HzkEY+eM=         1   \n",
       "4  moRTKhKIDvb+C8ZHOgmaF4dXMLk0jOn65d7a8tQ2Eds=         1   \n",
       "\n",
       "   payment_plan_days_mean  payment_plan_days_max  plan_list_price_mean  \\\n",
       "0                    30.0                     30                 180.0   \n",
       "1                    75.0                     90                 150.0   \n",
       "2                    30.0                     30                  99.0   \n",
       "3                    30.0                     30                 149.0   \n",
       "4                   410.0                    410                1788.0   \n",
       "\n",
       "   actual_amount_paid_sum  is_auto_renew_mean  is_cancel_mean  date  num_25  \\\n",
       "0                     180                 0.0           0.000     6       0   \n",
       "1                     300                 0.0           0.000    20     239   \n",
       "2                     792                 1.0           0.125    15       9   \n",
       "3                     149                 1.0           1.000     4       6   \n",
       "4                    1788                 0.0           0.000    31      78   \n",
       "\n",
       "   ...  num_100  num_unq  total_secs  city   gender  registered_via  \\\n",
       "0  ...       26       30    6986.509    13     male               3   \n",
       "1  ...      205      432   67810.467    13     male               3   \n",
       "2  ...      962      548  239882.241    13   female               7   \n",
       "3  ...       37       48   10110.665    22  Unknown               3   \n",
       "4  ...     1023      758  290831.795     9   female               3   \n",
       "\n",
       "   registration_init_time payment_ratio  age_bin cancel_bin  \n",
       "0              2013-12-23           1.0    10-19      0–20%  \n",
       "1              2013-12-27           2.0    10-19      0–20%  \n",
       "2              2014-01-25           8.0    30-39      0–20%  \n",
       "3              2014-01-26           1.0    20-29    80–100%  \n",
       "4              2014-02-02           1.0    20-29      0–20%  \n",
       "\n",
       "[5 rows x 23 columns]"
      ]
     },
     "execution_count": 278,
     "metadata": {},
     "output_type": "execute_result"
    }
   ],
   "source": [
    "df.head()"
   ]
  },
  {
   "cell_type": "code",
   "execution_count": null,
   "id": "7cf64761-7925-47ec-acfa-18e5e2f3c27c",
   "metadata": {},
   "outputs": [],
   "source": []
  }
 ],
 "metadata": {
  "kernelspec": {
   "display_name": "Python (email_classification_env)",
   "language": "python",
   "name": "email_classification_env"
  },
  "language_info": {
   "codemirror_mode": {
    "name": "ipython",
    "version": 3
   },
   "file_extension": ".py",
   "mimetype": "text/x-python",
   "name": "python",
   "nbconvert_exporter": "python",
   "pygments_lexer": "ipython3",
   "version": "3.13.5"
  }
 },
 "nbformat": 4,
 "nbformat_minor": 5
}
